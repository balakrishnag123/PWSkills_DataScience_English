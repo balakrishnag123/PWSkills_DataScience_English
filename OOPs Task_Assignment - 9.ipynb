{
 "cells": [
  {
   "cell_type": "markdown",
   "id": "755045cf-6e45-4a8c-a501-3aa265e0fe6b",
   "metadata": {},
   "source": [
    "# OOPs Task_Assignment - 9\n"
   ]
  },
  {
   "cell_type": "markdown",
   "id": "3f7126ef-d619-4769-b7ff-561d8080a624",
   "metadata": {},
   "source": [
    "### Q1, Create a vehicle class with an init method having instance variables as name_of_vehicle, max_speed and average_of_vehicle."
   ]
  },
  {
   "cell_type": "code",
   "execution_count": 25,
   "id": "d7f4f70e-f638-4ae1-800b-e61cfc01b9a4",
   "metadata": {},
   "outputs": [],
   "source": [
    "#creating vehicle class\n",
    "class vehicle:\n",
    "    def __init__(self,name_of_vehicle, max_speed, average_of_vehicle):\n",
    "        self.name_of_vehicle = name_of_vehicle\n",
    "        self.max_speed = max_speed\n",
    "        self.average_of_vehicle = average_of_vehicle\n",
    "        \n"
   ]
  },
  {
   "cell_type": "markdown",
   "id": "ed2ee6fe-e741-49cf-a5de-7916ceb4ff43",
   "metadata": {},
   "source": [
    "### Q2, Create a child class car from the vehicle class created in Que 1, which will inherit the vehicle class. Create a method named seating_capacity which takes capacity as an argument and returns the name of the vehicle and its seating capacity."
   ]
  },
  {
   "cell_type": "code",
   "execution_count": 34,
   "id": "666379fb-e4c0-4185-b2cf-2fb5082103ee",
   "metadata": {},
   "outputs": [],
   "source": [
    "#creating car class inheriting vehicle class\n",
    "class car(vehicle):\n",
    "        \n",
    "    def seating_capacity(self,capacity):\n",
    "        self.capacity = capacity\n",
    "        return self.capacity, self.name_of_vehicle\n",
    "        "
   ]
  },
  {
   "cell_type": "code",
   "execution_count": 35,
   "id": "f180c8b9-bdfc-4e8b-80e8-4c9eb4dc4fa9",
   "metadata": {},
   "outputs": [],
   "source": [
    "#creating an object\n",
    "obj_car = car(\"Benz\",300,20)"
   ]
  },
  {
   "cell_type": "code",
   "execution_count": 36,
   "id": "2aefcb03-94f7-4ce3-ae68-c8953350e65c",
   "metadata": {},
   "outputs": [
    {
     "data": {
      "text/plain": [
       "(4, 'Benz')"
      ]
     },
     "execution_count": 36,
     "metadata": {},
     "output_type": "execute_result"
    }
   ],
   "source": [
    "# calling seating capacity method\n",
    "obj_car.seating_capacity(4)"
   ]
  },
  {
   "cell_type": "markdown",
   "id": "3a5d071c-14b9-4a9c-8bcf-07215bc3efe6",
   "metadata": {},
   "source": [
    "### Q3. What is multiple inheritance? Write a python code to demonstrate multiple inheritance."
   ]
  },
  {
   "cell_type": "markdown",
   "id": "ed0afe71-5176-48fd-9040-80404f0eb658",
   "metadata": {},
   "source": [
    "### Ans - Multiple inheritance is when a class can inherit attributes and methods from more than one parent class."
   ]
  },
  {
   "cell_type": "code",
   "execution_count": 40,
   "id": "0facd4f0-5203-4f23-be6c-38d8dc84c77c",
   "metadata": {},
   "outputs": [],
   "source": [
    "#creating super class 1\n",
    "class A:\n",
    "\n",
    "    def Type_of_Class_A(self):\n",
    "        print(\"This is animal community\")\n",
    "\n",
    "#creating super class 2\n",
    "class B:\n",
    "\n",
    "    def Type_of_Class_B(self):\n",
    "        print(\"The anemone is protecting the clownfish.\")\n",
    "\n",
    "#creating child class using two super classes\n",
    "class Joined_Class(Coral, Anemone):\n",
    "    pass"
   ]
  },
  {
   "cell_type": "markdown",
   "id": "9914c72a-c633-4338-8fe8-378a8a9e32a2",
   "metadata": {},
   "source": [
    "### Q4. What are getter and setter in python? Create a class and create a getter and a setter method in this class."
   ]
  },
  {
   "cell_type": "markdown",
   "id": "52b08dcb-70c4-4357-b0b9-dd0bc150cbbe",
   "metadata": {},
   "source": [
    "### Ans - \n",
    "### Getter: A method that allows you to access an attribute in a given class.\n",
    "### Setter: A method that allows you to set or mutate the value of an attribute in a class."
   ]
  },
  {
   "cell_type": "code",
   "execution_count": 41,
   "id": "1db797e9-e1d4-45b5-abb5-f1fb7650e644",
   "metadata": {},
   "outputs": [],
   "source": [
    "# Creating a class\n",
    "class Label:\n",
    "    # consturctor\n",
    "    def __init__(self, text, font):\n",
    "        self._text = text\n",
    "        self._font = font\n",
    "        \n",
    "    # getter method for text.\n",
    "    def get_text(self):\n",
    "        return self._text\n",
    "    \n",
    "    # setter method for text.\n",
    "    def set_text(self, value):\n",
    "        self._text = value\n",
    "        \n",
    "    #getter method for font\n",
    "    def get_font(self):\n",
    "        return self._font\n",
    "    \n",
    "    #setter method for font\n",
    "    def set_font(self, value):\n",
    "        self._font = value"
   ]
  },
  {
   "cell_type": "code",
   "execution_count": 42,
   "id": "2b8ce537-174e-41ec-8bee-0f05c1db1694",
   "metadata": {},
   "outputs": [
    {
     "data": {
      "text/plain": [
       "'Bala'"
      ]
     },
     "execution_count": 42,
     "metadata": {},
     "output_type": "execute_result"
    }
   ],
   "source": [
    "obj_label = Label(\"Bala\",\"xyz\")\n",
    "obj_label.get_text()"
   ]
  },
  {
   "cell_type": "code",
   "execution_count": 43,
   "id": "2a7f87af-1751-44e7-9059-427d717f93d2",
   "metadata": {},
   "outputs": [
    {
     "data": {
      "text/plain": [
       "'xyz'"
      ]
     },
     "execution_count": 43,
     "metadata": {},
     "output_type": "execute_result"
    }
   ],
   "source": [
    "obj_label.get_font()"
   ]
  },
  {
   "cell_type": "code",
   "execution_count": 44,
   "id": "9b0a33a2-230a-4b08-8f61-6dfdb8c93d49",
   "metadata": {},
   "outputs": [],
   "source": [
    "obj_label.set_text(\"Krish\")\n",
    "obj_label.set_font(\"abc\")"
   ]
  },
  {
   "cell_type": "code",
   "execution_count": 46,
   "id": "e2a55011-5010-46e5-bdda-5960b9912a89",
   "metadata": {},
   "outputs": [
    {
     "data": {
      "text/plain": [
       "'abc'"
      ]
     },
     "execution_count": 46,
     "metadata": {},
     "output_type": "execute_result"
    }
   ],
   "source": [
    "\n",
    "obj_label.get_font()"
   ]
  },
  {
   "cell_type": "code",
   "execution_count": 47,
   "id": "799ed434-4406-4235-b2d2-b2e8e08c3a41",
   "metadata": {},
   "outputs": [
    {
     "data": {
      "text/plain": [
       "'Krish'"
      ]
     },
     "execution_count": 47,
     "metadata": {},
     "output_type": "execute_result"
    }
   ],
   "source": [
    "obj_label.get_text()"
   ]
  },
  {
   "cell_type": "markdown",
   "id": "1b686dd4-ba95-4499-8f55-76b33e7f0da4",
   "metadata": {},
   "source": [
    "### Q5.What is method overriding in python? Write a python code to demonstrate method overriding."
   ]
  },
  {
   "cell_type": "markdown",
   "id": "cae1bc66-779b-4698-bf5b-3a2ad21e2fef",
   "metadata": {},
   "source": [
    "### Ans - Method overriding is an ability of any object-oriented programming language that allows a subclass or child class to provide a specific implementation of a method that is already provided by one of its super-classes or parent classes. When a method in a subclass has the same name, same parameters or signature and same return type(or sub-type) as a method in its super-class, then the method in the subclass is said to override the method in the super-class."
   ]
  },
  {
   "cell_type": "code",
   "execution_count": null,
   "id": "59ec1da6-39b6-4c32-8feb-d9c97bcf3df7",
   "metadata": {},
   "outputs": [],
   "source": [
    "\n",
    "# Defining parent class\n",
    "class Parent_class():\n",
    "\t\n",
    "\t# Constructor\n",
    "\tdef __init__(self):\n",
    "\t\tself.value = \"Inside Parent\"\n",
    "\t\t\n",
    "\t# Parent's show method\n",
    "\tdef show(self):\n",
    "\t\tprint(self.value)\n",
    "\t\t\n",
    "# Defining child class\n",
    "class Child_class(Parent):\n",
    "\t\n",
    "\t# Constructor\n",
    "\tdef __init__(self):\n",
    "\t\tself.value = \"Inside Child\"\n",
    "\t\t\n",
    "\t# Child's show method\n",
    "\tdef show(self):\n",
    "\t\tprint(self.value)\n",
    "\t\t\n",
    "\t\t\n",
    "# Driver's code\n",
    "obj_parent = Parent_class()\n",
    "obj_child = Child_class()\n",
    "\n",
    "obj_parent.show()\n",
    "obj.show()\n"
   ]
  }
 ],
 "metadata": {
  "kernelspec": {
   "display_name": "Python 3 (ipykernel)",
   "language": "python",
   "name": "python3"
  },
  "language_info": {
   "codemirror_mode": {
    "name": "ipython",
    "version": 3
   },
   "file_extension": ".py",
   "mimetype": "text/x-python",
   "name": "python",
   "nbconvert_exporter": "python",
   "pygments_lexer": "ipython3",
   "version": "3.10.8"
  }
 },
 "nbformat": 4,
 "nbformat_minor": 5
}
