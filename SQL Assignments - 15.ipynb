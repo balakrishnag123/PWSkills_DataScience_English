{
 "cells": [
  {
   "cell_type": "markdown",
   "id": "99d7a790-f902-48e8-9194-8e380bedc3e1",
   "metadata": {},
   "source": [
    "# SQL Assignments - 15"
   ]
  },
  {
   "cell_type": "markdown",
   "id": "8aab3541-1b13-4f86-b05b-2fbd38ce3c8f",
   "metadata": {},
   "source": [
    "### Q1. What is a database? Differentiate between SQL and NoSQL databases."
   ]
  },
  {
   "cell_type": "markdown",
   "id": "2f1f9536-76a3-4738-a69e-5d4d934703ec",
   "metadata": {},
   "source": [
    "Database : \n",
    "A database is an organized collection of structured information, or data, typically stored electronically in a computer system. A database is usually controlled by a database management system (DBMS).\n",
    "1) SQL : MySQL is a relational database that is based on tabular design whereas \n",
    "2) NoSQL : NoSQL is non-relational in nature with its document-based design."
   ]
  },
  {
   "cell_type": "markdown",
   "id": "a83dc6af-9210-480e-a816-fe0f785cbdd1",
   "metadata": {},
   "source": [
    "### Q2. What is DDL? Explain why CREATE, DROP, ALTER, and TRUNCATE are used with an example."
   ]
  },
  {
   "cell_type": "markdown",
   "id": "459f05a9-d91e-45f5-a4b1-bd3db119cc3b",
   "metadata": {},
   "source": [
    "It defines the schema of a database and allows the user to create objects, create and drop tables, define indexes and grant access to users or computer programs called stored procedures. The data definition language includes the structure of tables and fields, the name of columns and attributes, table names, data types and their sizes and default values for tables and fields."
   ]
  },
  {
   "cell_type": "markdown",
   "id": "2f6ef2b3-fb60-4058-9e30-c36c0d06a778",
   "metadata": {},
   "source": [
    "Create : This is used for creating a table"
   ]
  },
  {
   "cell_type": "code",
   "execution_count": null,
   "id": "9aa2b2db-ac88-4599-9294-318f829ebaee",
   "metadata": {},
   "outputs": [],
   "source": [
    "import mysql.connector\n",
    "\n",
    "mydb = mysql.connector.connect(\n",
    "  host=\"localhost\",\n",
    "  user=\"abc\",\n",
    "  password=\"password\",\n",
    "  database=\"mydatabase\"\n",
    ")\n",
    "\n",
    "mycursor = mydb.cursor()\n",
    "\n",
    "mycursor.execute(\"CREATE TABLE customers (name VARCHAR(255), address VARCHAR(255))\")"
   ]
  },
  {
   "cell_type": "markdown",
   "id": "9d233894-16f6-4b1f-a509-345baddef8ad",
   "metadata": {},
   "source": [
    "Drop : This command used to deleted the table."
   ]
  },
  {
   "cell_type": "code",
   "execution_count": null,
   "id": "ea4c0bde-94c6-4c4e-baaa-1935c66c72dd",
   "metadata": {},
   "outputs": [],
   "source": [
    "import mysql.connector\n",
    "\n",
    "mydb = mysql.connector.connect(\n",
    "  host=\"localhost\",\n",
    "  user=\"abc\",\n",
    "  password=\"password\",\n",
    "  database=\"mydatabase\"\n",
    ")\n",
    "\n",
    "mycursor = mydb.cursor()x\n",
    "\n",
    "sql = \"DROP TABLE customers\"\n",
    "\n",
    "mycursor.execute(sql)"
   ]
  },
  {
   "cell_type": "markdown",
   "id": "39f5a244-2a7f-4d5c-8513-df616efa8e54",
   "metadata": {},
   "source": [
    "Alter: The ALTER statement changes the structure or schema of an already created database table by adding or removing one or more columns.\n",
    "The ALTER statement can be used to change several other attributes of the tables such as the name of the table and name of the columns.\n",
    "The ALTER also adds or removes one or more constraints and indexes as well.\n",
    "A python program can execute an ALTER statement using the PyMySQL."
   ]
  },
  {
   "cell_type": "code",
   "execution_count": null,
   "id": "7859b14c-2977-4636-87a3-2081781fd465",
   "metadata": {},
   "outputs": [],
   "source": [
    "import mysql.connector\n",
    "\n",
    "mydb = mysql.connector.connect(\n",
    "  host=\"localhost\",\n",
    "  user=\"abc\",\n",
    "  password=\"password\",\n",
    "  database=\"mydatabase\"\n",
    ")\n",
    "\n",
    "mycursor = mydb.cursor()x\n",
    "\n",
    "    \n",
    "alterStatement = \"ALTER TABLE Student ADD courseid2 int(11);\"\n",
    "\n",
    "cursorObject.execute(alterStatement)"
   ]
  },
  {
   "cell_type": "markdown",
   "id": "b8bdfc17-e4b7-4c4f-af36-6ebeb04b1d69",
   "metadata": {},
   "source": [
    "Truncate: This used to delete a table permanently from database"
   ]
  },
  {
   "cell_type": "code",
   "execution_count": null,
   "id": "0fa8fc40-e047-44c4-bab0-ec68a54b6366",
   "metadata": {},
   "outputs": [],
   "source": [
    "import mysql.connector\n",
    "\n",
    "mydb = mysql.connector.connect(\n",
    "  host=\"localhost\",\n",
    "  user=\"abc\",\n",
    "  password=\"password\",\n",
    "  database=\"mydatabase\"\n",
    ")\n",
    "\n",
    "mycursor = mydb.cursor()\n",
    "\n",
    "cursor.execute('TRUNCATE TABLE studend')\n",
    "cursor.commit()\n"
   ]
  },
  {
   "cell_type": "markdown",
   "id": "8e0c9b90-442e-4aae-a165-66f02568f0c3",
   "metadata": {},
   "source": [
    "### Q3. What is DML? Explain INSERT, UPDATE, and DELETE with an example."
   ]
  },
  {
   "cell_type": "markdown",
   "id": "e6decb9d-6a61-4108-9d4d-8bdc497ce966",
   "metadata": {},
   "source": [
    "DML : DML (Data Manipulation Language) statements are the element in the SQL language that is used for data retrieval and manipulation. "
   ]
  },
  {
   "cell_type": "markdown",
   "id": "113b06af-0b6a-456b-a074-273d875b904e",
   "metadata": {},
   "source": [
    "INSERT : this statement is used to insert data into existing table"
   ]
  },
  {
   "cell_type": "code",
   "execution_count": null,
   "id": "692f775f-946c-4617-8202-fada7fbae24f",
   "metadata": {},
   "outputs": [],
   "source": [
    "import mysql.connector\n",
    "\n",
    "mydb = mysql.connector.connect(\n",
    "  host=\"localhost\",\n",
    "  user=\"abc\",\n",
    "  password=\"password\",\n",
    "  database=\"mydatabase\"\n",
    ")\n",
    "\n",
    "mycursor = mydb.cursor()\n",
    "sql = \"INSERT INTO customers (name, address) VALUES (%s, %s)\"\n",
    "val = (\"John\", \"Highway 21\")\n",
    "mycursor.execute(sql, val)\n",
    "\n",
    "mydb.commit()\n"
   ]
  },
  {
   "cell_type": "markdown",
   "id": "829cbd22-0675-4971-9e88-eb1bc842e01c",
   "metadata": {},
   "source": [
    "UPDATE: This statement is used to update the existing record in table"
   ]
  },
  {
   "cell_type": "code",
   "execution_count": null,
   "id": "77621a95-cbfa-48db-a38d-14e6e32ec8e1",
   "metadata": {},
   "outputs": [],
   "source": [
    "import mysql.connector\n",
    "\n",
    "mydb = mysql.connector.connect(\n",
    "  host=\"localhost\",\n",
    "  user=\"abc\",\n",
    "  password=\"password\",\n",
    "  database=\"mydatabase\"\n",
    ")\n",
    "\n",
    "mycursor = mydb.cursor()\n",
    "sql = \"UPDATE customers SET address = 'Canyon 123' WHERE address = 'Valley 345'\"\n",
    "\n",
    "mycursor.execute(sql)\n",
    "\n",
    "mydb.commit()\n"
   ]
  },
  {
   "cell_type": "markdown",
   "id": "bdc553cd-9062-422f-b572-e026332f9a52",
   "metadata": {},
   "source": [
    "DELETE: This statement is used to delete records from existing table"
   ]
  },
  {
   "cell_type": "code",
   "execution_count": null,
   "id": "dd580993-dfb9-403d-b4c1-57a2e90ee03a",
   "metadata": {},
   "outputs": [],
   "source": [
    "import mysql.connector\n",
    "\n",
    "mydb = mysql.connector.connect(\n",
    "  host=\"localhost\",\n",
    "  user=\"abc\",\n",
    "  password=\"password\",\n",
    "  database=\"mydatabase\"\n",
    ")\n",
    "\n",
    "mycursor = mydb.cursor()\n",
    "sql = \"DELETE FROM customers WHERE address = 'Mountain 21'\"\n",
    "\n",
    "mycursor.execute(sql)\n",
    "\n",
    "mydb.commit()"
   ]
  },
  {
   "cell_type": "markdown",
   "id": "251fdbfd-ed67-4b77-8645-81ebc271e21c",
   "metadata": {},
   "source": [
    "### Q4. What is DQL? Explain SELECT with an example."
   ]
  },
  {
   "cell_type": "markdown",
   "id": "91d5bbcb-255e-4434-a665-04135988d760",
   "metadata": {},
   "source": [
    "DQL statements are used for performing queries on the data within schema objects. The purpose of DQL commands is to get the schema relation based on the query passed to it."
   ]
  },
  {
   "cell_type": "markdown",
   "id": "272cbbe5-b08f-4e00-a4e0-e0fbb50b8d5f",
   "metadata": {},
   "source": [
    "SELECT is the statment used to get data from table. this can also used as conditional statment to get data"
   ]
  },
  {
   "cell_type": "code",
   "execution_count": null,
   "id": "4c7add33-0f28-47de-b22c-23634ad18e69",
   "metadata": {},
   "outputs": [],
   "source": [
    "import mysql.connector\n",
    "\n",
    "mydb = mysql.connector.connect(\n",
    "  host=\"localhost\",\n",
    "  user=\"abc\",\n",
    "  password=\"password\",\n",
    "  database=\"mydatabase\"\n",
    ")\n",
    "\n",
    "mycursor = mydb.cursor()\n",
    "mycursor.execute(\"SELECT * FROM customers\")\n",
    "\n",
    "myresult = mycursor.fetchall()\n",
    "\n",
    "for x in myresult:\n",
    "    print(x)"
   ]
  },
  {
   "cell_type": "markdown",
   "id": "7be6cf38-6216-4af6-9233-bb7ad1c5cce1",
   "metadata": {},
   "source": [
    "### Q5. Explain Primary Key and Foreign Key."
   ]
  },
  {
   "cell_type": "markdown",
   "id": "747a7aa4-afb3-4263-941a-46fa1b0aaca4",
   "metadata": {},
   "source": [
    "Primary Key: A primary key is used to ensure that data in the specific column is unique. A column cannot have NULL values. It is either an existing table column or a column that is specifically generated by the database according to a defined sequence. \n",
    "\n",
    "Example: Refer the figure – \n",
    "STUD_NO, as well as STUD_PHONE both, are candidate keys for relation STUDENT but STUD_NO can be chosen as the primary key (only one out of many candidate keys). \n",
    "\n",
    "Foreign Key: \n",
    "A foreign key is a column or group of columns in a relational database table that provides a link between data in two tables. It is a column (or columns) that references a column (most often the primary key) of another table. \n",
    "\n",
    "Example: Refer the figure – \n",
    "STUD_NO in STUDENT_COURSE is a foreign key to STUD_NO in STUDENT relation. "
   ]
  },
  {
   "cell_type": "markdown",
   "id": "8c158ddd-79f4-44e8-bb00-cea6f08c0472",
   "metadata": {},
   "source": [
    "### Q6. Write a python code to connect MySQL to python. Explain the cursor() and execute() method."
   ]
  },
  {
   "cell_type": "code",
   "execution_count": null,
   "id": "53019bdc-4a5b-421a-9b23-714610e20c5c",
   "metadata": {},
   "outputs": [],
   "source": [
    "import mysql.connector\n",
    "\n",
    "mydb = mysql.connector.connect(\n",
    "  host=\"localhost\",\n",
    "  user=\"abc\",\n",
    "  password=\"password\",\n",
    "  database=\"mydatabase\"\n",
    ")\n",
    "\n",
    "mycursor = mydb.cursor()\n",
    "\n",
    "mycursor.execute(\"CREATE TABLE customers (name VARCHAR(255), address VARCHAR(255))\")"
   ]
  },
  {
   "cell_type": "markdown",
   "id": "14299af8-abf8-431f-a351-b27f17b6c304",
   "metadata": {},
   "source": [
    "cursor() : A cursor is an object which helps to execute the query"
   ]
  },
  {
   "cell_type": "markdown",
   "id": "a2def1a1-ddff-448d-aad0-7e85d49b8e2a",
   "metadata": {},
   "source": [
    "The execute () method helps us to execute the query and return records according to the query. The syntax of the execute () function is:\n",
    "\n"
   ]
  },
  {
   "cell_type": "markdown",
   "id": "ae547e34-12f3-41d3-8fa1-d9248730a78b",
   "metadata": {},
   "source": [
    "\n",
    "### Q7. Give the order of execution of SQL clauses in an SQL query."
   ]
  },
  {
   "cell_type": "code",
   "execution_count": null,
   "id": "cd54c7d0-27c1-46cd-b720-771ee163d221",
   "metadata": {},
   "outputs": [],
   "source": []
  }
 ],
 "metadata": {
  "kernelspec": {
   "display_name": "Python 3 (ipykernel)",
   "language": "python",
   "name": "python3"
  },
  "language_info": {
   "codemirror_mode": {
    "name": "ipython",
    "version": 3
   },
   "file_extension": ".py",
   "mimetype": "text/x-python",
   "name": "python",
   "nbconvert_exporter": "python",
   "pygments_lexer": "ipython3",
   "version": "3.10.8"
  }
 },
 "nbformat": 4,
 "nbformat_minor": 5
}
