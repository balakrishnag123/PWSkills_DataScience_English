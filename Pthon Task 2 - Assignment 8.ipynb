{
 "cells": [
  {
   "cell_type": "markdown",
   "id": "c9dba40f-dfa7-498d-bc3d-6a9ddb2897b5",
   "metadata": {},
   "source": [
    "### Q1. You are writing code for a company. The requirement of the company is that you create a python function that will check whether the password entered by the user is correct or not. The function should take the password as input and return the string “Valid Password” if the entered password follows the below-given password guidelines else it should return “Invalid Password”.\n",
    "### Note: \n",
    "### 1. The Password should contain at least two uppercase letters and at least two lowercase letters.\n",
    "### 2. The Password should contain at least a number and three special characters.\n",
    "### 3. The length of the password should be 10 characters long."
   ]
  },
  {
   "cell_type": "code",
   "execution_count": 19,
   "id": "f725a6c9-3999-4249-bff5-d6432de93d65",
   "metadata": {},
   "outputs": [],
   "source": [
    "def passwordValidation(password):\n",
    "    lengthcheck = False\n",
    "    numbercheck = False\n",
    "    uppercasecheck = False\n",
    "    lowecasecheck = False\n",
    "    uppercaseCount = 2\n",
    "    lowercasecount = 2\n",
    "    numbercount = 1\n",
    "    specialcharcount = 3\n",
    "    Capital = ['A','B','C','D','E','F','G','H','I','J','K','L','M','N','N','O','P','Q','R','S','T','U','V','W','X','Y','Z']\n",
    "    small = ['a','b','c','d','e','f','g','h','i','j','k','l','m','n','o','p','q','r','s','t','u','v','w','x','y','z']\n",
    "    numbers = ['0','1','2','3','4','5','6','7','8','9']\n",
    "    specialCharectors = ['!','@','#','$','%','^','&','*','(',')','~','{','}','[',']','|','\\\\',':',';','?','>','<',',','.','/','\"',\"'\",'`','+','=','-',\"_\"]\n",
    " \n",
    "    for i in password:\n",
    "        if i in Capital:\n",
    "            uppercaseCount = uppercaseCount - 1\n",
    "        if i in small:\n",
    "            lowercasecount = lowercasecount - 1\n",
    "        if i in specialCharectors:\n",
    "            specialcharcount = specialcharcount - 1\n",
    "        if i in numbers:\n",
    "            numbercount = numbercount - 1\n",
    "    if uppercaseCount <= 0 and len(password) == 10 and lowercasecount <= 0 and numbercount <= 0 and specialcharcount <= 0:\n",
    "        return \"Valid password\"\n",
    "    else :\n",
    "        return \"InValid Password\"\n",
    "            \n",
    "        \n",
    "        "
   ]
  },
  {
   "cell_type": "code",
   "execution_count": 22,
   "id": "277962c7-ecd5-4688-8531-a7154c1d307f",
   "metadata": {},
   "outputs": [
    {
     "data": {
      "text/plain": [
       "'Valid password'"
      ]
     },
     "execution_count": 22,
     "metadata": {},
     "output_type": "execute_result"
    }
   ],
   "source": [
    "passwordValidation(\"qwer^&*1OP\")"
   ]
  },
  {
   "cell_type": "markdown",
   "id": "bbe16626-0da7-44bf-96c6-c4753e530711",
   "metadata": {},
   "source": [
    "### Q2. Solve the below-given questions using at least one of the following: \n",
    "1. Lambda function\n",
    "2. Filter function\n",
    "3. Map function\n",
    "4. List ComprehensioI\n",
    "### Check if the string starts with a particular letter\n",
    "### Check if the string is numeric\n",
    "### Sort a list of tuples having fruit names and their quantity.[(\"mango\",99),(\"orange\",80),(\"grapes\",1000)- \n",
    "### Find the squares of numbers from 1 to 10 \n",
    "### Find the cuberoot of numbers from 1 to 10\n",
    "### Check if a given number is even\n",
    "### Filter odd numbers from the given list.\n",
    "### [1,2,3,4,5,6,7,8,9,10-\n",
    "### Sort a list of integers into positive and negative integers lists.\n",
    "### [1,2,3,4,5,6,-1,-2,-3,-4,-5,0]"
   ]
  },
  {
   "cell_type": "markdown",
   "id": "e3506188-8df4-49b4-a505-ce5051161d36",
   "metadata": {},
   "source": [
    "# 1. Check if the string starts with a particular letter"
   ]
  },
  {
   "cell_type": "code",
   "execution_count": 26,
   "id": "41836e96-7e62-4b4b-9bf5-b1ab034a6789",
   "metadata": {},
   "outputs": [],
   "source": [
    "checkIfStringHasALetter = lambda x,y : True if y in x else False"
   ]
  },
  {
   "cell_type": "code",
   "execution_count": 28,
   "id": "e981cb64-fcde-462a-a10e-239cdd0e0d8b",
   "metadata": {},
   "outputs": [
    {
     "data": {
      "text/plain": [
       "True"
      ]
     },
     "execution_count": 28,
     "metadata": {},
     "output_type": "execute_result"
    }
   ],
   "source": [
    "checkIfStringHasALetter(\"Balakrishna\",'B')\n"
   ]
  },
  {
   "cell_type": "code",
   "execution_count": 29,
   "id": "eb1aa9ad-59e2-45f3-a523-0b7fabdcbb8f",
   "metadata": {},
   "outputs": [
    {
     "data": {
      "text/plain": [
       "False"
      ]
     },
     "execution_count": 29,
     "metadata": {},
     "output_type": "execute_result"
    }
   ],
   "source": [
    "checkIfStringHasALetter(\"Balakrishna\",'z')"
   ]
  },
  {
   "cell_type": "markdown",
   "id": "ed03a93a-dc2c-4b80-9ac5-b8a5c9f26933",
   "metadata": {},
   "source": [
    "# 2. Check if the string is numeric"
   ]
  },
  {
   "cell_type": "code",
   "execution_count": 30,
   "id": "0ef584bb-5dba-42ad-b40c-e90181071fbd",
   "metadata": {},
   "outputs": [],
   "source": [
    "checkifStringisNumberic = lambda x : x.isnumeric()"
   ]
  },
  {
   "cell_type": "code",
   "execution_count": 32,
   "id": "12b6100b-a08c-437e-82ad-e3f921c00fd8",
   "metadata": {},
   "outputs": [
    {
     "data": {
      "text/plain": [
       "False"
      ]
     },
     "execution_count": 32,
     "metadata": {},
     "output_type": "execute_result"
    }
   ],
   "source": [
    "checkifStringisNumberic(\"BAla\")"
   ]
  },
  {
   "cell_type": "code",
   "execution_count": 33,
   "id": "4309d63b-6929-46eb-8f69-c1ebbe537044",
   "metadata": {},
   "outputs": [
    {
     "data": {
      "text/plain": [
       "True"
      ]
     },
     "execution_count": 33,
     "metadata": {},
     "output_type": "execute_result"
    }
   ],
   "source": [
    "checkifStringisNumberic(\"7987\")"
   ]
  },
  {
   "cell_type": "markdown",
   "id": "e10aaabb-6b97-4606-b1fa-dfd5d9831b86",
   "metadata": {},
   "source": [
    "# 3. Sort a list of tuples having fruit names and their quantity.[(\"mango\",99),(\"orange\",80),(\"grapes\",1000)]"
   ]
  },
  {
   "cell_type": "code",
   "execution_count": 36,
   "id": "a0031b6d-baf1-4241-b92a-44e219c786b9",
   "metadata": {},
   "outputs": [
    {
     "name": "stdout",
     "output_type": "stream",
     "text": [
      "[('orange', 80), ('mango', 99), ('grapes', 1000)]\n"
     ]
    }
   ],
   "source": [
    "fruits = [(\"mango\",99),(\"orange\",80),(\"grapes\",1000)]\n",
    "sortFruit = sorted(fruits, key=lambda x:x[1])\n",
    "print(sortFruit)"
   ]
  },
  {
   "cell_type": "markdown",
   "id": "e261f520-c87d-44fd-9220-0aac9770f4ef",
   "metadata": {},
   "source": [
    "# 4.Find the squares of numbers from 1 to 10 "
   ]
  },
  {
   "cell_type": "code",
   "execution_count": 54,
   "id": "10c905ae-7ef2-4edb-8184-afa73aff845a",
   "metadata": {},
   "outputs": [
    {
     "data": {
      "text/plain": [
       "[1, 4, 9, 16, 25, 36, 49, 64, 81, 100]"
      ]
     },
     "execution_count": 54,
     "metadata": {},
     "output_type": "execute_result"
    }
   ],
   "source": [
    "l = [1,2,3,4,5,6,7,8,9,10]\n",
    "list(map(lambda x: x*x, l))"
   ]
  },
  {
   "cell_type": "markdown",
   "id": "ad649782-a487-4207-a1e1-c4a30eb458d9",
   "metadata": {},
   "source": [
    "# 5. Findthecuberootofnumbersfrom1to10Y"
   ]
  },
  {
   "cell_type": "code",
   "execution_count": 55,
   "id": "f34132b4-58b6-4daf-ad96-916394ba6c87",
   "metadata": {},
   "outputs": [
    {
     "data": {
      "text/plain": [
       "[1.0,\n",
       " 1.2599210498948732,\n",
       " 1.4422495703074083,\n",
       " 1.5874010519681994,\n",
       " 1.7099759466766968,\n",
       " 1.8171205928321397,\n",
       " 1.912931182772389,\n",
       " 2.0,\n",
       " 2.080083823051904,\n",
       " 2.154434690031884]"
      ]
     },
     "execution_count": 55,
     "metadata": {},
     "output_type": "execute_result"
    }
   ],
   "source": [
    "import math \n",
    "from functools import reduce\n",
    "l = [1,2,3,4,5,6,7,8,9,10]\n",
    "list(map(lambda x: math.pow(x,1/3), l))"
   ]
  },
  {
   "cell_type": "markdown",
   "id": "a0bec216-9ec6-4ff6-b356-e5497720319f",
   "metadata": {},
   "source": [
    "# 6.Check if a given number is even"
   ]
  },
  {
   "cell_type": "code",
   "execution_count": 56,
   "id": "f6d390cd-fc9d-4bad-bd62-813c8e70510c",
   "metadata": {},
   "outputs": [],
   "source": [
    "evenornot = lambda x : x%2 == 0"
   ]
  },
  {
   "cell_type": "code",
   "execution_count": 57,
   "id": "622806ee-d475-4320-a4c0-baa63ff0cf6a",
   "metadata": {},
   "outputs": [
    {
     "data": {
      "text/plain": [
       "False"
      ]
     },
     "execution_count": 57,
     "metadata": {},
     "output_type": "execute_result"
    }
   ],
   "source": [
    "evenornot(33)"
   ]
  },
  {
   "cell_type": "markdown",
   "id": "5f2f2140-9e48-4a99-a65b-0d3bfed2e52d",
   "metadata": {},
   "source": [
    "# 7. Filter odd numbers from the given list.\n",
    "\n",
    "# [1,2,3,4,5,6,7,8,9,10]"
   ]
  },
  {
   "cell_type": "code",
   "execution_count": 60,
   "id": "ea6f7373-8b90-42c6-a4d2-28bbad5c5d32",
   "metadata": {},
   "outputs": [],
   "source": [
    "l = [1,2,3,4,5,6,7,8,9,10]\n",
    "oddOut = list(filter(lambda x: x%2 != 0, l))"
   ]
  },
  {
   "cell_type": "code",
   "execution_count": 61,
   "id": "72a774b2-bd42-4610-95cb-8407bddfdd83",
   "metadata": {},
   "outputs": [
    {
     "data": {
      "text/plain": [
       "[1, 3, 5, 7, 9]"
      ]
     },
     "execution_count": 61,
     "metadata": {},
     "output_type": "execute_result"
    }
   ],
   "source": [
    "oddOut"
   ]
  },
  {
   "cell_type": "markdown",
   "id": "02cfe275-b6cb-4c20-b417-be82ebc52236",
   "metadata": {},
   "source": [
    "# 7. Sort a list of integers into positive and negative integers lists.\n",
    "\n",
    "#[1,2,3,4,5,6,-1,-2,-3,-4,-5,0]"
   ]
  },
  {
   "cell_type": "code",
   "execution_count": 63,
   "id": "8bf825a5-2274-4262-8a2c-20b65b3e628b",
   "metadata": {},
   "outputs": [],
   "source": [
    " l =[1,2,3,4,5,6,-1,-2,-3,-4,-5,0]"
   ]
  },
  {
   "cell_type": "code",
   "execution_count": 74,
   "id": "d41d19be-5665-4dd4-8876-68db8435b2a6",
   "metadata": {},
   "outputs": [],
   "source": [
    "lNegitive = list(filter(lambda x: x<0, l))"
   ]
  },
  {
   "cell_type": "code",
   "execution_count": 75,
   "id": "28b9557b-bbad-4e21-bc31-458b48483d00",
   "metadata": {},
   "outputs": [
    {
     "data": {
      "text/plain": [
       "[-1, -2, -3, -4, -5]"
      ]
     },
     "execution_count": 75,
     "metadata": {},
     "output_type": "execute_result"
    }
   ],
   "source": [
    "lNegitive"
   ]
  },
  {
   "cell_type": "code",
   "execution_count": null,
   "id": "5d1b57aa-b8e5-4b67-b03e-8985e1cc5917",
   "metadata": {},
   "outputs": [],
   "source": [
    "lNegitive = list(filter(lambda x: x<0, l))"
   ]
  }
 ],
 "metadata": {
  "kernelspec": {
   "display_name": "Python 3 (ipykernel)",
   "language": "python",
   "name": "python3"
  },
  "language_info": {
   "codemirror_mode": {
    "name": "ipython",
    "version": 3
   },
   "file_extension": ".py",
   "mimetype": "text/x-python",
   "name": "python",
   "nbconvert_exporter": "python",
   "pygments_lexer": "ipython3",
   "version": "3.10.8"
  }
 },
 "nbformat": 4,
 "nbformat_minor": 5
}
