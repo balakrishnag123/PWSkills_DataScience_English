{
 "cells": [
  {
   "cell_type": "markdown",
   "id": "26d4357d-b0b7-45a8-b331-82a993bdf8fd",
   "metadata": {},
   "source": [
    "### Multithreading Assignment - 13"
   ]
  },
  {
   "cell_type": "markdown",
   "id": "10aec501-6b70-4fc1-97a2-1a67330ace53",
   "metadata": {},
   "source": [
    "### Q1. What is multithreading in python? Why is it used? Name the module used to handle threads in python.\n"
   ]
  },
  {
   "cell_type": "markdown",
   "id": "7b78fe41-2001-4489-ab68-e1b81a8e2ed6",
   "metadata": {},
   "source": [
    "Multithreading allows you to break down an application into multiple sub-tasks and run these tasks simultaneously. If you use multithreading properly, your application speed, performance, and rendering can all be improved. Threading is the module used to handle threads in python."
   ]
  },
  {
   "cell_type": "markdown",
   "id": "483b10be-fbd0-49ac-b2ab-70d558348a2c",
   "metadata": {},
   "source": [
    "### Q2. Why threading module used? Write the use of the following functions\u001d",
    "\n",
    "1) activeCount()\n",
    "2) currentThread()\n",
    "3) enumerate()\n"
   ]
  },
  {
   "cell_type": "markdown",
   "id": "f78b0abf-7875-41f4-a7bb-743f34795288",
   "metadata": {},
   "source": [
    "Ans - The threading Module. This method starts a new thread and return its identifier. The thread executes the function \"function\" (function is a reference to a function) with the argument list args (which must be a list or a tuple). The optional kwargs argument specifies a dictionary of keyword arguments."
   ]
  },
  {
   "cell_type": "markdown",
   "id": "983e276a-6a66-4222-951f-3a603fb42fe3",
   "metadata": {},
   "source": [
    "threading.activeCount() − Returns the number of thread objects that are active.\n",
    "threading.currentThread() − Returns the number of thread objects in the caller's thread control.\n",
    "threading.enumerate() − Returns a list of all thread objects that are currently active."
   ]
  },
  {
   "cell_type": "markdown",
   "id": "e9b781ac-e439-436f-a92e-96b2b86d7360",
   "metadata": {},
   "source": [
    "### Q3. Explain the following functions\n",
    "1) run() \n",
    "2) start()\n",
    "3) join()\n",
    "4) isAlive()\n"
   ]
  },
  {
   "cell_type": "markdown",
   "id": "487d7b07-1d85-480b-aa14-338922f5ddb7",
   "metadata": {},
   "source": [
    "Ans -\n",
    "\n",
    "1) run()  − The run() method is the entry point for a thread.\n",
    "2) start()  − The start() method starts a thread by calling the run method.\n",
    "3) join()  − The join() waits for threads to terminate.\n",
    "4) isAlive()  − The isAlive() method checks whether a thread is still executing."
   ]
  },
  {
   "cell_type": "markdown",
   "id": "19f47928-e93f-49ed-b01d-07a8c7784cd9",
   "metadata": {},
   "source": [
    "### Q4. Write a python program to create two threads. Thread one must print the list of squares and thread two must print the list of cubes.\n"
   ]
  },
  {
   "cell_type": "code",
   "execution_count": 18,
   "id": "b7eebb77-8dc6-45f5-a73f-1f25216f63b3",
   "metadata": {},
   "outputs": [
    {
     "name": "stdout",
     "output_type": "stream",
     "text": [
      "Square of 1 is :1\n",
      "\n",
      "Square of 2 is :4\n",
      "\n",
      "Square of 3 is :9\n",
      "\n",
      "Square of 4 is :16\n",
      "\n",
      "Square of 5 is :25\n",
      "\n",
      "Cube of 1 is :1\n",
      "Cube of 2 is :8\n",
      "Cube of 3 is :27\n",
      "Cube of 4 is :64\n",
      "Cube of 5 is :125\n"
     ]
    }
   ],
   "source": [
    "import threading\n",
    "\n",
    "def calc_square(numbers):\n",
    "    for i in numbers:\n",
    "        print (\"Square of \" + str(i) + \" is :\" + str(i*i))\n",
    "        print()\n",
    "    \n",
    "def calc_cube(numbers):\n",
    "    for i in numbers:\n",
    "        print(\"Cube of \"+str(i)+\" is :\" + str(i*i*i))\n",
    "\n",
    "numbers = [1,2,3,4,5]\n",
    "\n",
    "square_thread = threading.Thread(target=calc_square, args=(numbers,))\n",
    "cube_thread = threading.Thread(target=calc_cube, args=(numbers,))\n",
    "\n",
    "square_thread.start()\n",
    "cube_thread.start()\n",
    "\n",
    "square_thread.join()\n",
    "cube_thread.join()\n",
    "\n"
   ]
  },
  {
   "cell_type": "markdown",
   "id": "6f57a115-76dd-4201-b2fc-faea370d527d",
   "metadata": {},
   "source": [
    "### Q5. State advantages and disadvantages of multithreading.\n"
   ]
  },
  {
   "cell_type": "markdown",
   "id": "a6e2153f-c000-41c3-a461-d812a9bfb432",
   "metadata": {},
   "source": [
    "Ans - \n",
    "Advantages:\n",
    "1) Enhanced performance by decreased development time\n",
    "2) Simplified and streamlined program coding\n",
    "3) Improvised GUI responsiveness\n",
    "4) Simultaneous and parallelized occurrence of tasks\n",
    "5) Better use of cache storage by utilization of resources\n",
    "6) Decreased cost of maintenance\n",
    "7) Better use of CPU resource\n",
    "\n",
    "disadvantages:\n",
    "1) Complex debugging and testing processes\n",
    "2) Overhead switching of context\n",
    "3) Increased potential for deadlock occurrence\n",
    "4) Increased difficulty level in writing a program\n",
    "5) Unpredictable results"
   ]
  },
  {
   "cell_type": "markdown",
   "id": "5877ff8a-512c-4ba7-a7a4-d9a4dd3ef9a1",
   "metadata": {},
   "source": [
    "### Q6. Explain deadlocks and race conditions."
   ]
  },
  {
   "cell_type": "markdown",
   "id": "2158b497-7d52-4926-bf66-3be3da79b32f",
   "metadata": {},
   "source": [
    "Ans - \n",
    "1) deadlock. Two threads hold locks on different resources, each waiting indefinitely for the other to release its lock. \n",
    "2) race condition. Two (or more) threads alter the state of a shared resource concurrently, leaving it in an unpredictable state."
   ]
  },
  {
   "cell_type": "code",
   "execution_count": null,
   "id": "ee7221c0-102f-486e-9b69-1bed2e66c298",
   "metadata": {},
   "outputs": [],
   "source": []
  }
 ],
 "metadata": {
  "kernelspec": {
   "display_name": "Python 3 (ipykernel)",
   "language": "python",
   "name": "python3"
  },
  "language_info": {
   "codemirror_mode": {
    "name": "ipython",
    "version": 3
   },
   "file_extension": ".py",
   "mimetype": "text/x-python",
   "name": "python",
   "nbconvert_exporter": "python",
   "pygments_lexer": "ipython3",
   "version": "3.10.8"
  }
 },
 "nbformat": 4,
 "nbformat_minor": 5
}
