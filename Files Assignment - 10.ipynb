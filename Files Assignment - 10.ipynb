{
 "cells": [
  {
   "cell_type": "markdown",
   "id": "be2b2306-643c-4b6c-9ece-5f4fc56f06cf",
   "metadata": {},
   "source": [
    "## Assignment - 10"
   ]
  },
  {
   "cell_type": "markdown",
   "id": "487bb8a2-9b04-4fbe-8015-e13aea05977c",
   "metadata": {},
   "source": [
    "### Q1. Which function is used to open a file? What are the different modes of opening a file? Explain each mode of file opening."
   ]
  },
  {
   "cell_type": "markdown",
   "id": "0d26432d-72ec-4c35-aea3-7fbe0771091c",
   "metadata": {},
   "source": [
    "### Ans - open() function is used to open a file. "
   ]
  },
  {
   "cell_type": "code",
   "execution_count": 5,
   "id": "c417966f-56cd-4264-8975-498f69d10e15",
   "metadata": {},
   "outputs": [],
   "source": [
    "file_example = open(\"TestingText.txt\",'w') "
   ]
  },
  {
   "cell_type": "markdown",
   "id": "1515d3c2-dc5a-45ac-b2ea-8a8678bb978c",
   "metadata": {},
   "source": [
    "### The access modes available for the open() function are as follows:\n",
    "### r: Opens the file in read-only mode. Starts reading from the beginning of the file and is the default mode for the open() function.\n",
    "### rb: Opens the file as read-only in binary format and starts reading from the beginning of the file. While binary format can be used for different purposes, it is usually used when dealing with things like images, videos, etc.\n",
    "### r+: Opens a file for reading and writing, placing the pointer at the beginning of the file.\n",
    "#### w: Opens in write-only mode. The pointer is placed at the beginning of the file and this will overwrite any existing file with the same name. It will create a new file if one with the same name doesn't exist.\n",
    "### wb: Opens a write-only file in binary mode.\n",
    "### w+: Opens a file for writing and reading.\n",
    "#### wb+: Opens a file for writing and reading in binary mode.\n",
    "### a: Opens a file for appending new information to it. The pointer is placed at the end of the file. A new file is created if one with the same name doesn't exist.\n",
    "### ab: Opens a file for appending in binary mode.\n",
    "### a+: Opens a file for both appending and reading.\n",
    "### ab+: Opens a file for both appending and reading in binary mode."
   ]
  },
  {
   "cell_type": "markdown",
   "id": "ec6c74f6-3774-467a-a2c6-5137d969045f",
   "metadata": {},
   "source": [
    "### Q2. Why close() function is used? Why is it important to close a file?"
   ]
  },
  {
   "cell_type": "markdown",
   "id": "ec6f77c1-5a7f-4983-a229-d09f88f6e7fd",
   "metadata": {},
   "source": [
    "### Ans - Because files are limited resources managed by the operating system, making sure files are closed after use will protect against hard-to-debug issues like running out of file handles or experiencing corrupted data. "
   ]
  },
  {
   "cell_type": "markdown",
   "id": "b99a8f84-99f7-4320-8509-0993c1f22418",
   "metadata": {},
   "source": [
    "### Q3. Write a python program to create a text file. Write ‘I want to become a Data Scientist’ in that file. Then close the file. Open this file and read the content of the file."
   ]
  },
  {
   "cell_type": "code",
   "execution_count": 7,
   "id": "21a09b2a-e440-48ef-b421-40966c537fbb",
   "metadata": {},
   "outputs": [],
   "source": [
    "f = open(\"myfile.txt\", \"w\")\n",
    "f.write(\"I want to become a Data Scientist\")\n",
    "f.close()"
   ]
  },
  {
   "cell_type": "code",
   "execution_count": 8,
   "id": "147c69a9-031e-41b0-a660-5216dd7ce05f",
   "metadata": {},
   "outputs": [],
   "source": [
    "f1 = open(\"myfile.txt\", \"r\")\n",
    "data = f1.read()"
   ]
  },
  {
   "cell_type": "code",
   "execution_count": 9,
   "id": "5e7b84ad-4413-44ea-85b1-ee7efcf1eb93",
   "metadata": {},
   "outputs": [
    {
     "data": {
      "text/plain": [
       "'I want to become a Data Scientist'"
      ]
     },
     "execution_count": 9,
     "metadata": {},
     "output_type": "execute_result"
    }
   ],
   "source": [
    "data"
   ]
  },
  {
   "cell_type": "code",
   "execution_count": 10,
   "id": "76b3f6a9-e555-424e-a7ad-85a3780b4040",
   "metadata": {},
   "outputs": [],
   "source": [
    "f1.close()"
   ]
  },
  {
   "cell_type": "markdown",
   "id": "62910bb0-8d24-4d78-9daa-d5e79f5b4ff6",
   "metadata": {},
   "source": [
    "### Q4. Explain the following with python code: read(), readline() and readlines()."
   ]
  },
  {
   "cell_type": "markdown",
   "id": "2c3375f8-c4fc-4401-bdd4-9dbac1c99a87",
   "metadata": {},
   "source": [
    "### read() - reads content of the file"
   ]
  },
  {
   "cell_type": "code",
   "execution_count": 16,
   "id": "927ae44c-5494-405b-988c-9f1c723ce9a0",
   "metadata": {},
   "outputs": [],
   "source": [
    "f = open(\"myfile.txt\", \"w\")\n",
    "f.write('''I want to become a Data Scientist\\nkjflkjdsljfkljdfl\\nsjdfkljdsklfjkldjf\\ndfkljdklsjlkdjf\n",
    "fdsfjkldjfkljd\n",
    "klsdfjkldsjklfjdkl\n",
    "jklsjdklf''')\n",
    "f.close()\n",
    "f1 = open(\"myfile.txt\", \"r\")\n",
    "data = f1.read()"
   ]
  },
  {
   "cell_type": "code",
   "execution_count": 17,
   "id": "bcb014ef-db08-40e9-a04a-8960684e9e77",
   "metadata": {},
   "outputs": [
    {
     "data": {
      "text/plain": [
       "'I want to become a Data Scientist\\nkjflkjdsljfkljdfl\\nsjdfkljdsklfjkldjf\\ndfkljdklsjlkdjf\\nfdsfjkldjfkljd\\nklsdfjkldsjklfjdkl\\njklsjdklf'"
      ]
     },
     "execution_count": 17,
     "metadata": {},
     "output_type": "execute_result"
    }
   ],
   "source": [
    "data"
   ]
  },
  {
   "cell_type": "markdown",
   "id": "c9c2d3a0-b5e2-4b9a-91e7-4ce8d2bcb166",
   "metadata": {},
   "source": [
    "### readline() - Read the first line of the file:"
   ]
  },
  {
   "cell_type": "code",
   "execution_count": 18,
   "id": "6fbcec8e-27bc-4da6-8583-18c9b8eb0e40",
   "metadata": {},
   "outputs": [],
   "source": [
    "data1 = f1.readline()"
   ]
  },
  {
   "cell_type": "code",
   "execution_count": 19,
   "id": "29510134-f62a-40a8-aa16-377c1f7b459f",
   "metadata": {},
   "outputs": [
    {
     "data": {
      "text/plain": [
       "''"
      ]
     },
     "execution_count": 19,
     "metadata": {},
     "output_type": "execute_result"
    }
   ],
   "source": [
    "data1"
   ]
  },
  {
   "cell_type": "markdown",
   "id": "2aa1d6d5-dc6a-4bcd-a9a5-f90b52b8cca5",
   "metadata": {},
   "source": [
    "### readline() - Return all lines in the file, as a list where each line is an item in the list object:"
   ]
  },
  {
   "cell_type": "code",
   "execution_count": 23,
   "id": "58803de5-31e2-4125-a7c8-77f66c7291cf",
   "metadata": {},
   "outputs": [
    {
     "name": "stdout",
     "output_type": "stream",
     "text": [
      "Line1: Geeks\n",
      "Line2: for\n",
      "Line3: Geeks\n"
     ]
    }
   ],
   "source": [
    "\n",
    "\n",
    "L = [\"Geeks\\n\", \"for\\n\", \"Geeks\\n\"]\n",
    "\n",
    "# Writing to a file\n",
    "file1 = open('myfile.txt', 'w')\n",
    "file1.writelines((L))\n",
    "file1.close()\n",
    "\n",
    "# Using readline()\n",
    "file1 = open('myfile.txt', 'r')\n",
    "count = 0\n",
    "\n",
    "while True:\n",
    "\tcount += 1\n",
    "\n",
    "\t# Get next line from file\n",
    "\tline = file1.readline()\n",
    "\n",
    "\t# if line is empty\n",
    "\t# end of file is reached\n",
    "\tif not line:\n",
    "\t\tbreak\n",
    "\tprint(\"Line{}: {}\".format(count, line.strip()))\n",
    "\n",
    "file1.close()\n"
   ]
  },
  {
   "cell_type": "markdown",
   "id": "87eff026-1d62-41c5-bfb0-ef4401257484",
   "metadata": {},
   "source": [
    "### Q5. Explain why with statement is used with open(). What is the advantage of using with statement and open() together?"
   ]
  },
  {
   "cell_type": "markdown",
   "id": "5f8490d5-6fef-4bed-881d-433e9d721c66",
   "metadata": {},
   "source": [
    "### Ans -  Using with means that the file will be closed as soon as you leave the block. This is beneficial because closing a file is something that can easily be forgotten and ties up resources that you no longer need."
   ]
  },
  {
   "cell_type": "markdown",
   "id": "e6eebb88-e573-419c-a7d0-60a7f0e43df8",
   "metadata": {},
   "source": [
    "### Q6. Explain the write() and writelines() functions. Give a suitable example."
   ]
  },
  {
   "cell_type": "markdown",
   "id": "94336224-7041-4264-943b-d5ef72581df4",
   "metadata": {},
   "source": [
    "### The write() method writes a specified text to the file."
   ]
  },
  {
   "cell_type": "code",
   "execution_count": 24,
   "id": "f6caf463-4722-4e9a-b095-693335719c92",
   "metadata": {},
   "outputs": [
    {
     "name": "stdout",
     "output_type": "stream",
     "text": [
      "\n",
      "See you soon!\n"
     ]
    }
   ],
   "source": [
    "f = open(\"demofile2.txt\", \"a\")\n",
    "f.write(\"\\nSee you soon!\")\n",
    "f.close()\n",
    "\n",
    "#open and read the file after the appending:\n",
    "f = open(\"demofile2.txt\", \"r\")\n",
    "print(f.read())"
   ]
  },
  {
   "cell_type": "markdown",
   "id": "d1e6e274-8aa5-4087-8b5f-95a3eae5d0dd",
   "metadata": {},
   "source": [
    "### The writelines() method writes the items of a list to the file."
   ]
  },
  {
   "cell_type": "code",
   "execution_count": null,
   "id": "eab45473-c3f8-4260-87ca-9899804ca367",
   "metadata": {},
   "outputs": [],
   "source": [
    "f = open(\"demofile3.txt\", \"a\")\n",
    "f.writelines([\"\\nSee you soon!\", \"\\nOver and out.\"])\n",
    "f.close()\n",
    "\n",
    "#open and read the file after the appending:\n",
    "f = open(\"demofile3.txt\", \"r\")\n",
    "print(f.read())"
   ]
  }
 ],
 "metadata": {
  "kernelspec": {
   "display_name": "Python 3 (ipykernel)",
   "language": "python",
   "name": "python3"
  },
  "language_info": {
   "codemirror_mode": {
    "name": "ipython",
    "version": 3
   },
   "file_extension": ".py",
   "mimetype": "text/x-python",
   "name": "python",
   "nbconvert_exporter": "python",
   "pygments_lexer": "ipython3",
   "version": "3.10.8"
  }
 },
 "nbformat": 4,
 "nbformat_minor": 5
}
