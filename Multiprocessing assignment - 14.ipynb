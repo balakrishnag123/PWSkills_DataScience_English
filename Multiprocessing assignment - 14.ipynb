{
 "cells": [
  {
   "cell_type": "markdown",
   "id": "f01e0c7b-0365-4b5f-8cdf-c12e720c8014",
   "metadata": {},
   "source": [
    "### Multiprocessing assignment - 14"
   ]
  },
  {
   "cell_type": "markdown",
   "id": "86e04592-7be2-49c9-a1e3-85d3d26d7689",
   "metadata": {},
   "source": [
    "### Q1. What is multiprocessing in python? Why is it useful?"
   ]
  },
  {
   "cell_type": "markdown",
   "id": "f067b20c-1d43-4558-88b2-6f539ff3838e",
   "metadata": {},
   "source": [
    "Ans - Multiprocessing is the ability of the system to run one or more processes in parallel. In simple words, multiprocessing uses the two or more CPU within the single computer system. This method is also capable to allocate the tasks between more than one process.Processing units share the main memory and peripherals to process programs simultaneously. Multiprocessing Application breaks into smaller parts and runs independently. Each process is allocated to the processor by the operating system. \n",
    "\n",
    "Why it is useful:\n",
    "Multiprocessing is essential to perform the multiple tasks within the Computer system. Suppose a computer without multiprocessing or single processor. We assign various processes to that system at the same time.It will then have to interrupt the previous task and move to another to keep all processes going. It is as simple as a chef is working alone in the kitchen. He has to do several tasks to cook food such as cutting, cleaning, cooking, kneading dough, baking, etc.Therefore, multiprocessing is essential to perform several task at the same time without interruption. It also makes easy to track all the tasks. That is why the concept of multiprocessing is to arise."
   ]
  },
  {
   "cell_type": "markdown",
   "id": "cff97ac1-a240-4057-b0c5-97da021cbc97",
   "metadata": {},
   "source": [
    "### Q2. What are the differences between multiprocessing and multithreading?"
   ]
  },
  {
   "cell_type": "markdown",
   "id": "420e4047-ec4c-4572-934f-04397a956a8d",
   "metadata": {},
   "source": [
    "By formal definition, multithreading refers to the ability of a processor to execute multiple threads concurrently, where each thread runs a process. Whereas multiprocessing refers to the ability of a system to run multiple processors concurrently, where each processor can run one or more threads."
   ]
  },
  {
   "cell_type": "markdown",
   "id": "7e97d8cc-32b0-4a6c-aaa7-7c8a36c49d78",
   "metadata": {},
   "source": [
    "### Q3. Write a python code to create a process using the multiprocessing module."
   ]
  },
  {
   "cell_type": "code",
   "execution_count": 7,
   "id": "f4d68dd7-9bd1-4e7c-843e-47cebc58fc85",
   "metadata": {},
   "outputs": [
    {
     "name": "stdout",
     "output_type": "stream",
     "text": [
      "['singpore', 'China', 'Vietnam']\n"
     ]
    }
   ],
   "source": [
    "import multiprocessing\n",
    "\n",
    "def printCountry(country = 'India'):\n",
    "    print(country)\n",
    "    \n",
    "\n",
    "if __name__ == \"__main__\":\n",
    "    name = [\"singpore\", \"China\",\"Vietnam\"]\n",
    "    proc = multiprocessing.Process(target=printCountry, args=(name,))\n",
    "    proc.start()\n",
    "    proc.join()\n",
    "    \n",
    "                                   "
   ]
  },
  {
   "cell_type": "markdown",
   "id": "3b42db1a-bcf6-4bc2-a263-cb513ff65eaa",
   "metadata": {},
   "source": [
    "### Q4. What is a multiprocessing pool in python? Why is it used?"
   ]
  },
  {
   "cell_type": "markdown",
   "id": "e47ad360-8c2c-4165-80d0-f90e1b9a2b6e",
   "metadata": {},
   "source": [
    "Ans - Python multiprocessing Pool can be used for parallel execution of a function across multiple input values, distributing the input data across processes (data parallelism). \n",
    "\n",
    "Why it is used : The multiprocessing package offers both local and remote concurrency, effectively side-stepping the Global Interpreter Lock by using subprocesses instead of threads. Due to this, the multiprocessing module allows the programmer to fully leverage multiple processors on a given machine."
   ]
  },
  {
   "cell_type": "markdown",
   "id": "7eb423b5-8490-4458-af80-3341422fba7f",
   "metadata": {},
   "source": [
    "### Q5. How can we create a pool of worker processes in python using the multiprocessing module?"
   ]
  },
  {
   "cell_type": "markdown",
   "id": "f75f31b2-6f3a-43f8-9582-015f8606a50c",
   "metadata": {},
   "source": [
    "1) Create: Create the process pool by calling the constructor multiprocessing.Pool().\n",
    "2) Submit: Submit tasks synchronously or asynchronously.\n",
    "3) Wait: Wait and get results as tasks complete (optional).\n",
    "4) Shutdown: Shutdown the process pool by calling shutdown().\n"
   ]
  },
  {
   "cell_type": "code",
   "execution_count": 9,
   "id": "dce66b4d-1293-41a8-8a51-f070ef100559",
   "metadata": {},
   "outputs": [
    {
     "name": "stdout",
     "output_type": "stream",
     "text": [
      "start process:0start process:1start process:4start process:3start process:2\n",
      "\n",
      "\n",
      "\n",
      "square 0:0\n",
      "\n",
      "square 1:1\n",
      "square 4:16\n",
      "square 3:9\n",
      "\n",
      "square 2:4\n",
      "\n",
      "\n",
      "\n",
      "\n",
      "end process:0end process:1end process:3\n",
      "end process:4end process:2\n",
      "\n",
      "Time taken 1.4174132347106934 seconds\n",
      "\n",
      "\n"
     ]
    }
   ],
   "source": [
    "import time\n",
    "from multiprocessing import Pool\n",
    "\n",
    "\n",
    "def square(x):\n",
    "    print(f\"start process:{x}\")\n",
    "    square = x * x\n",
    "    print(f\"square {x}:{square}\\n\")\n",
    "    time.sleep(1)\n",
    "    print(f\"end process:{x}\")\n",
    "\n",
    "\n",
    "if __name__ == \"__main__\":\n",
    "    starttime = time.time()\n",
    "    pool = Pool()\n",
    "    pool.map(square, range(0, 5))\n",
    "    pool.close()\n",
    "    endtime = time.time()\n",
    "    print(f\"Time taken {endtime-starttime} seconds\")"
   ]
  },
  {
   "cell_type": "markdown",
   "id": "22d42a7d-cdb1-489d-8567-f196fc1c5bc0",
   "metadata": {},
   "source": [
    "### Q6. Write a python program to create 4 processes, each process should print a different number using the multiprocessing module in python."
   ]
  },
  {
   "cell_type": "code",
   "execution_count": 14,
   "id": "02be9eaa-c939-45c7-9f88-7b9e3dc82edc",
   "metadata": {},
   "outputs": [
    {
     "ename": "SyntaxError",
     "evalue": "invalid syntax (3236213890.py, line 2)",
     "output_type": "error",
     "traceback": [
      "\u001b[0;36m  Cell \u001b[0;32mIn[14], line 2\u001b[0;36m\u001b[0m\n\u001b[0;31m    from multiprocessing\u001b[0m\n\u001b[0m                        ^\u001b[0m\n\u001b[0;31mSyntaxError\u001b[0m\u001b[0;31m:\u001b[0m invalid syntax\n"
     ]
    }
   ],
   "source": [
    "import time\n",
    "from multiprocessing\n",
    "import os\n",
    "\n",
    "\n",
    "def square(x):\n",
    "    square = x * x\n",
    "    print(f\"square {x}:{square}\\n\")\n",
    "    pid = os.getpid()\n",
    "    print(f\"the pid of current process is {pid}\\n\")\n",
    "\n",
    "\n",
    "if __name__ == \"__main__\":\n",
    "    p1 = multiprocessing.Process(target=square,args=(2,))\n",
    "    p1 = multiprocessing.Process(target=square,args=(2,))\n",
    "    p1 = multiprocessing.Process(target=square,args=(2,)\n",
    "    "
   ]
  },
  {
   "cell_type": "code",
   "execution_count": null,
   "id": "430c9328-b84c-4279-be63-b45dc0233332",
   "metadata": {},
   "outputs": [],
   "source": []
  }
 ],
 "metadata": {
  "kernelspec": {
   "display_name": "Python 3 (ipykernel)",
   "language": "python",
   "name": "python3"
  },
  "language_info": {
   "codemirror_mode": {
    "name": "ipython",
    "version": 3
   },
   "file_extension": ".py",
   "mimetype": "text/x-python",
   "name": "python",
   "nbconvert_exporter": "python",
   "pygments_lexer": "ipython3",
   "version": "3.10.8"
  }
 },
 "nbformat": 4,
 "nbformat_minor": 5
}
