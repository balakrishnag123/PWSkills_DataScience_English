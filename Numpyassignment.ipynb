{
 "cells": [
  {
   "cell_type": "markdown",
   "id": "2de48e62-d385-43fb-aa41-cefd8db02fb4",
   "metadata": {},
   "source": [
    "# Numpy Basic"
   ]
  },
  {
   "cell_type": "code",
   "execution_count": 23,
   "id": "a4e0cb75-9bd4-481f-9431-e101baf678e4",
   "metadata": {},
   "outputs": [],
   "source": [
    "import numpy as np"
   ]
  },
  {
   "cell_type": "code",
   "execution_count": 24,
   "id": "5a73a0f4-54c5-495f-8652-e2af77b8363f",
   "metadata": {},
   "outputs": [],
   "source": [
    "\n",
    "list_ = [\"1\" ,\"2\", \"3\" , \"4\" , \"5\" ]\n",
    "array_list = np.array(object = list_)"
   ]
  },
  {
   "cell_type": "code",
   "execution_count": 25,
   "id": "f12d2df9-c997-4bfd-b8bf-2287ac80d7f7",
   "metadata": {},
   "outputs": [
    {
     "data": {
      "text/plain": [
       "array(['1', '2', '3', '4', '5'], dtype='<U1')"
      ]
     },
     "execution_count": 25,
     "metadata": {},
     "output_type": "execute_result"
    }
   ],
   "source": [
    "array_list"
   ]
  },
  {
   "cell_type": "markdown",
   "id": "cdd668c7-cbe9-4d63-a7ac-345094e204fc",
   "metadata": {},
   "source": [
    "### Q1. Is there any difference in the data type of variables list_ and array_list? If there is then write a code to print the data types of both the variables."
   ]
  },
  {
   "cell_type": "markdown",
   "id": "224ae07d-8ee8-4599-bb50-0b0060ff34c4",
   "metadata": {},
   "source": [
    "Ans : Yes There is difference. array_list has 8-bit unsigned integer and list_ has string"
   ]
  },
  {
   "cell_type": "code",
   "execution_count": 26,
   "id": "e0722775-15b3-44c4-b234-1b4c873f30df",
   "metadata": {},
   "outputs": [
    {
     "data": {
      "text/plain": [
       "str"
      ]
     },
     "execution_count": 26,
     "metadata": {},
     "output_type": "execute_result"
    }
   ],
   "source": [
    "type(list_[0])"
   ]
  },
  {
   "cell_type": "code",
   "execution_count": 27,
   "id": "af748a11-48fa-437d-bc39-7dd8520ce079",
   "metadata": {},
   "outputs": [
    {
     "data": {
      "text/plain": [
       "dtype('<U1')"
      ]
     },
     "execution_count": 27,
     "metadata": {},
     "output_type": "execute_result"
    }
   ],
   "source": [
    "array_list.dtype"
   ]
  },
  {
   "cell_type": "markdown",
   "id": "cf177230-e686-4484-8480-3d37516a8815",
   "metadata": {},
   "source": [
    "### Q2. Write a code to print the data type of each and every element of both the variables list_ and arra_list."
   ]
  },
  {
   "cell_type": "code",
   "execution_count": 28,
   "id": "3c0a799e-f9b2-474c-bae0-04c6578abe97",
   "metadata": {},
   "outputs": [
    {
     "name": "stdout",
     "output_type": "stream",
     "text": [
      "The data type of each element of variable 'list_' is\n",
      "<class 'str'>\n",
      "<class 'str'>\n",
      "<class 'str'>\n",
      "<class 'str'>\n",
      "<class 'str'>\n"
     ]
    }
   ],
   "source": [
    "print(\"The data type of each element of variable 'list_' is\")\n",
    "for i in list_:\n",
    "    print(type(i))"
   ]
  },
  {
   "cell_type": "code",
   "execution_count": 29,
   "id": "02a18a6f-78c0-436e-bbce-66ac3a838058",
   "metadata": {},
   "outputs": [
    {
     "name": "stdout",
     "output_type": "stream",
     "text": [
      "The data type of each element of variable 'array_list' is\n",
      "<class 'numpy.str_'>\n",
      "<class 'numpy.str_'>\n",
      "<class 'numpy.str_'>\n",
      "<class 'numpy.str_'>\n",
      "<class 'numpy.str_'>\n"
     ]
    }
   ],
   "source": [
    "print(\"The data type of each element of variable 'array_list' is\")\n",
    "for i in array_list:\n",
    "    print(type(i))"
   ]
  },
  {
   "cell_type": "code",
   "execution_count": 30,
   "id": "aeb962c1-b98e-477f-a631-e7e8df8c2c2c",
   "metadata": {},
   "outputs": [
    {
     "name": "stdout",
     "output_type": "stream",
     "text": [
      "The data type of each element of variable 'array_list' as per numpy iterator is\n",
      "<class 'numpy.ndarray'>\n",
      "<class 'numpy.ndarray'>\n",
      "<class 'numpy.ndarray'>\n",
      "<class 'numpy.ndarray'>\n",
      "<class 'numpy.ndarray'>\n"
     ]
    }
   ],
   "source": [
    " print(\"The data type of each element of variable 'array_list' as per numpy iterator is\")\n",
    "for i in np.nditer(array_list):\n",
    "    print(type(i))"
   ]
  },
  {
   "cell_type": "markdown",
   "id": "a78df63e-c402-4c1e-bd19-15a21b706d0e",
   "metadata": {},
   "source": [
    "### Q3. Considering the following changes in the variable, array_list:\n",
    "    array_list = np.array(object = list_, dtype = int)\n",
    "    Will there be any difference in the data type of the elements present in both the variables, list_ and\n",
    "    arra_list? If so then print the data types of each and every element present in both the variables, list_\n",
    "    and arra_list.\n",
    "    "
   ]
  },
  {
   "cell_type": "code",
   "execution_count": 32,
   "id": "e0190c64-dc5d-41c6-bf2a-a0244d16a477",
   "metadata": {},
   "outputs": [],
   "source": [
    "array_list = np.array(object = list_, dtype = int)"
   ]
  },
  {
   "cell_type": "markdown",
   "id": "ade7b7b7-a3b7-4890-8c07-b31aaa887901",
   "metadata": {},
   "source": [
    "Ans : yes there will be, the element will be converted to interger"
   ]
  },
  {
   "cell_type": "code",
   "execution_count": 33,
   "id": "0a4a84f5-85ff-48a2-aede-ee8cc5d411c2",
   "metadata": {},
   "outputs": [
    {
     "name": "stdout",
     "output_type": "stream",
     "text": [
      "The data type of each element of variable 'list_' is\n",
      "<class 'str'>\n",
      "<class 'str'>\n",
      "<class 'str'>\n",
      "<class 'str'>\n",
      "<class 'str'>\n"
     ]
    }
   ],
   "source": [
    "print(\"The data type of each element of variable 'list_' is\")\n",
    "for i in list_:\n",
    "    print(type(i))"
   ]
  },
  {
   "cell_type": "code",
   "execution_count": 34,
   "id": "f1801a31-932f-4dcd-9e37-df8453cacc24",
   "metadata": {},
   "outputs": [
    {
     "data": {
      "text/plain": [
       "dtype('int64')"
      ]
     },
     "execution_count": 34,
     "metadata": {},
     "output_type": "execute_result"
    }
   ],
   "source": [
    "array_list.dtype"
   ]
  },
  {
   "cell_type": "code",
   "execution_count": 35,
   "id": "8df8f8d2-cc4b-428a-b54f-76880b6e4eb1",
   "metadata": {},
   "outputs": [
    {
     "name": "stdout",
     "output_type": "stream",
     "text": [
      "The data type of each element of variable 'array_list' is\n",
      "<class 'numpy.int64'>\n",
      "<class 'numpy.int64'>\n",
      "<class 'numpy.int64'>\n",
      "<class 'numpy.int64'>\n",
      "<class 'numpy.int64'>\n"
     ]
    }
   ],
   "source": [
    "print(\"The data type of each element of variable 'array_list' is\")\n",
    "for i in array_list:\n",
    "    print(type(i))"
   ]
  },
  {
   "cell_type": "code",
   "execution_count": 36,
   "id": "a2d68fee-19ce-4039-8d09-c1d4a4b43362",
   "metadata": {},
   "outputs": [
    {
     "name": "stdout",
     "output_type": "stream",
     "text": [
      "The data type of each element of variable 'array_list' as per numpy iterator is\n",
      "<class 'numpy.ndarray'>\n",
      "<class 'numpy.ndarray'>\n",
      "<class 'numpy.ndarray'>\n",
      "<class 'numpy.ndarray'>\n",
      "<class 'numpy.ndarray'>\n"
     ]
    }
   ],
   "source": [
    " print(\"The data type of each element of variable 'array_list' as per numpy iterator is\")\n",
    "for i in np.nditer(array_list):\n",
    "    print(type(i))"
   ]
  },
  {
   "cell_type": "markdown",
   "id": "258e980b-fc52-4a51-8bdb-30f917a13e73",
   "metadata": {},
   "source": [
    "### Consider the below code to answer further questions:\n",
    "    import numpy as np\n",
    "    num_list = [ [ 1 , 2 , 3 ] , [ 4 , 5 , 6 ] ]\n",
    "    num_array = np.array(object = num_list)\n",
    "### Q4. Write a code to find the following characteristics of variable, num_array:\n",
    "    (i) shape\n",
    "    (ii) size"
   ]
  },
  {
   "cell_type": "code",
   "execution_count": 39,
   "id": "b74bf789-16b5-4f71-8b91-1f82bf9295d9",
   "metadata": {},
   "outputs": [],
   "source": [
    "import numpy as np\n",
    "num_list = [ [ 1 , 2 , 3 ] , [ 4 , 5 , 6 ] ]\n",
    "num_array = np.array(object = num_list)"
   ]
  },
  {
   "cell_type": "markdown",
   "id": "b2b8c09c-5a5e-4152-9c4d-b79d4ab710cf",
   "metadata": {},
   "source": [
    "# Shape()\n",
    "num_array.shape"
   ]
  },
  {
   "cell_type": "code",
   "execution_count": 43,
   "id": "1c68f908-0b78-4607-afa7-2b9b02b62d9a",
   "metadata": {},
   "outputs": [
    {
     "data": {
      "text/plain": [
       "6"
      ]
     },
     "execution_count": 43,
     "metadata": {},
     "output_type": "execute_result"
    }
   ],
   "source": [
    "# Size\n",
    "num_array.size"
   ]
  },
  {
   "cell_type": "markdown",
   "id": "7af88a7d-9ac9-45ac-a249-4cbb87f55ab5",
   "metadata": {},
   "source": [
    "### Q5. Write a code to create numpy array of 3*3 matrix containing zeros only, using a numpy array creation function.\n",
    "[Hint: The size of the array will be 9 and the shape will be (3,3).]"
   ]
  },
  {
   "cell_type": "code",
   "execution_count": 47,
   "id": "47ad521a-e43d-4727-8e34-3324dead1950",
   "metadata": {},
   "outputs": [],
   "source": [
    "zero_Array = np.zeros((3,3))"
   ]
  },
  {
   "cell_type": "code",
   "execution_count": 48,
   "id": "34222495-7d76-421a-a03c-09fbed442ac0",
   "metadata": {},
   "outputs": [
    {
     "data": {
      "text/plain": [
       "array([[0., 0., 0.],\n",
       "       [0., 0., 0.],\n",
       "       [0., 0., 0.]])"
      ]
     },
     "execution_count": 48,
     "metadata": {},
     "output_type": "execute_result"
    }
   ],
   "source": [
    "zero_Array"
   ]
  },
  {
   "cell_type": "code",
   "execution_count": 49,
   "id": "1f95f852-ee14-4c3e-a1d9-ca0641d7d484",
   "metadata": {},
   "outputs": [
    {
     "data": {
      "text/plain": [
       "9"
      ]
     },
     "execution_count": 49,
     "metadata": {},
     "output_type": "execute_result"
    }
   ],
   "source": [
    "zero_Array.size"
   ]
  },
  {
   "cell_type": "code",
   "execution_count": 50,
   "id": "a43c6084-ea6f-4fc3-8b1e-4ea809cd9c12",
   "metadata": {},
   "outputs": [
    {
     "data": {
      "text/plain": [
       "(3, 3)"
      ]
     },
     "execution_count": 50,
     "metadata": {},
     "output_type": "execute_result"
    }
   ],
   "source": [
    "zero_Array.shape"
   ]
  },
  {
   "cell_type": "markdown",
   "id": "268b19a1-ca05-4f81-b362-5f7ae9913d5b",
   "metadata": {},
   "source": [
    "### Q6. Create an identity matrix of shape (5,5) using numpy functions?\n",
    "[Hint: An identity matrix is a matrix containing 1 diagonally and other elements will be 0.]"
   ]
  },
  {
   "cell_type": "code",
   "execution_count": 61,
   "id": "ec702ea1-a388-4460-b5c7-275ffcfe5ee8",
   "metadata": {},
   "outputs": [],
   "source": [
    "identiyMatrix = np.identity(5,dtype=int)"
   ]
  },
  {
   "cell_type": "code",
   "execution_count": 62,
   "id": "a4aed0ca-cd04-496f-8f70-0c7bbb92f3ee",
   "metadata": {},
   "outputs": [
    {
     "data": {
      "text/plain": [
       "array([[1, 0, 0, 0, 0],\n",
       "       [0, 1, 0, 0, 0],\n",
       "       [0, 0, 1, 0, 0],\n",
       "       [0, 0, 0, 1, 0],\n",
       "       [0, 0, 0, 0, 1]])"
      ]
     },
     "execution_count": 62,
     "metadata": {},
     "output_type": "execute_result"
    }
   ],
   "source": [
    "identiyMatrix"
   ]
  },
  {
   "cell_type": "code",
   "execution_count": null,
   "id": "9e04046d-603a-4518-8a24-cb1b048ce5d8",
   "metadata": {},
   "outputs": [],
   "source": []
  }
 ],
 "metadata": {
  "kernelspec": {
   "display_name": "Python 3 (ipykernel)",
   "language": "python",
   "name": "python3"
  },
  "language_info": {
   "codemirror_mode": {
    "name": "ipython",
    "version": 3
   },
   "file_extension": ".py",
   "mimetype": "text/x-python",
   "name": "python",
   "nbconvert_exporter": "python",
   "pygments_lexer": "ipython3",
   "version": "3.10.8"
  }
 },
 "nbformat": 4,
 "nbformat_minor": 5
}
