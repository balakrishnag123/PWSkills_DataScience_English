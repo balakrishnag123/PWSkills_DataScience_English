{
 "cells": [
  {
   "cell_type": "markdown",
   "id": "ea94767e-0bdc-42e8-be34-86aca16eba06",
   "metadata": {
    "tags": []
   },
   "source": [
    "### Q1. Create a function which will take a list as an argument and return the product of all the numbers after creating a flat list.\n",
    "\n",
    "### Use the below-given list as an argument for your function.\n",
    "\n",
    "\n",
    "### list1 = [1,2,3,4, [44,55,66, True], False, (34,56,78,89,34), {1,2,3,3,2,1}, {1:34, \"key2\": [55, 67, 78, 89], 4: (45, 22, 61, 34)}, [56, 'data science'], 'Machine Learning']\n",
    "\n",
    "\n"
   ]
  },
  {
   "cell_type": "code",
   "execution_count": 1,
   "id": "7f74a70b-04b3-47fa-a8a8-68b0b62e7cce",
   "metadata": {},
   "outputs": [],
   "source": [
    "list1 = [1,2,3,4, [44,55,66, True], False, (34,56,78,89,34), {1,2,3,3,2,1}, {1:34, \"key2\": [55, 67, 78, 89], 4: (45, 22, 61, 34)}, [56, 'data science'], 'Machine Learning']\n"
   ]
  },
  {
   "cell_type": "code",
   "execution_count": 94,
   "id": "aa2af68a-43ee-4710-b6bf-9f6683bc0151",
   "metadata": {},
   "outputs": [],
   "source": [
    "def productofNumbers(lst):\n",
    "    final = []\n",
    "    for i in lst:\n",
    "        if type(i) == list:\n",
    "            for j in i:\n",
    "                if type(j) == int:\n",
    "                    final.append(j)\n",
    "        elif type(i) == tuple:\n",
    "            for j in i:\n",
    "                if type(j) == int:\n",
    "                    final.append(j)\n",
    "        elif type(i) == set:\n",
    "            for j in i:\n",
    "                if type(j) == int:\n",
    "                    final.append(j)\n",
    "        elif type(i) == int:\n",
    "            final.append(i)\n",
    "        elif type(i) == dict:\n",
    "            for j in i.keys():\n",
    "                if type(j) == int:\n",
    "                    final.append(j)\n",
    "                elif type(i[j]) == list:\n",
    "                    for k in i[j]:\n",
    "                        if type(k) == int:\n",
    "                            final.append(k)\n",
    "                elif type(i[j]) == int:\n",
    "                    final.append(i[j])\n",
    "                if type(i[j]) == tuple:\n",
    "                    for k in i[j]:\n",
    "                        if type(k) == int:\n",
    "                            final.append(k)\n",
    "                if type(i[j]) == int:\n",
    "                    final.append(i[j])         \n",
    "    return final\n",
    "                \n",
    "        \n",
    "            \n",
    "                "
   ]
  },
  {
   "cell_type": "code",
   "execution_count": null,
   "id": "a5a1b943-f89f-4b6b-9604-ac76327752db",
   "metadata": {},
   "outputs": [],
   "source": []
  },
  {
   "cell_type": "code",
   "execution_count": 95,
   "id": "f7add3ec-d605-4ea3-a3cb-08d6d3767d47",
   "metadata": {},
   "outputs": [],
   "source": [
    "l2 = productofNumbers(list1)"
   ]
  },
  {
   "cell_type": "code",
   "execution_count": 96,
   "id": "07535464-25c8-4e43-a4a6-db60876e7c61",
   "metadata": {},
   "outputs": [
    {
     "data": {
      "text/plain": [
       "[1,\n",
       " 2,\n",
       " 3,\n",
       " 4,\n",
       " 44,\n",
       " 55,\n",
       " 66,\n",
       " 34,\n",
       " 56,\n",
       " 78,\n",
       " 89,\n",
       " 34,\n",
       " 1,\n",
       " 2,\n",
       " 3,\n",
       " 1,\n",
       " 34,\n",
       " 55,\n",
       " 67,\n",
       " 78,\n",
       " 89,\n",
       " 4,\n",
       " 45,\n",
       " 22,\n",
       " 61,\n",
       " 34,\n",
       " 56]"
      ]
     },
     "execution_count": 96,
     "metadata": {},
     "output_type": "execute_result"
    }
   ],
   "source": [
    "l2"
   ]
  },
  {
   "cell_type": "code",
   "execution_count": 97,
   "id": "34d257b5-1ba4-4654-912f-0276660daf3b",
   "metadata": {},
   "outputs": [],
   "source": [
    "from functools import reduce"
   ]
  },
  {
   "cell_type": "code",
   "execution_count": 98,
   "id": "5ce709e3-748e-4efc-b35c-327943d1d198",
   "metadata": {},
   "outputs": [
    {
     "data": {
      "text/plain": [
       "4134711838987085478833841242112000"
      ]
     },
     "execution_count": 98,
     "metadata": {},
     "output_type": "execute_result"
    }
   ],
   "source": [
    "reduce(lambda x,y : x*y,l2)"
   ]
  },
  {
   "cell_type": "code",
   "execution_count": 99,
   "id": "e87c5c6a-dea7-43e6-9951-da2a4f017190",
   "metadata": {},
   "outputs": [
    {
     "name": "stdout",
     "output_type": "stream",
     "text": [
      "1\n",
      "2\n",
      "6\n",
      "24\n",
      "1056\n",
      "58080\n",
      "3833280\n",
      "130331520\n",
      "7298565120\n",
      "569288079360\n",
      "50666639063040\n",
      "1722665728143360\n",
      "1722665728143360\n",
      "3445331456286720\n",
      "10335994368860160\n",
      "10335994368860160\n",
      "351423808541245440\n",
      "19328309469768499200\n",
      "1294996734474489446400\n",
      "101009745289010176819200\n",
      "8989867330721905736908800\n",
      "35959469322887622947635200\n",
      "1618176119529943032643584000\n",
      "35599874629658746718158848000\n",
      "2171592352409183549807689728000\n",
      "73834139981912240693461450752000\n",
      "4134711838987085478833841242112000\n"
     ]
    }
   ],
   "source": [
    "a = 1\n",
    "for i in l2:\n",
    "    a = a*i\n",
    "    print(a)\n",
    "    "
   ]
  },
  {
   "cell_type": "markdown",
   "id": "89857f75-a728-4471-9817-31775eeb0e79",
   "metadata": {},
   "source": [
    "### Q2. Write a python program for encrypting a message sent to you by your friend. The logic of encryption should be such that, for a the output should be z. For b, the output should be y. For c, the output should be x respectively. Also, the whitespace should be replaced with a dollar sign. Keep the punctuation marks unchanged.\n",
    "\n",
    "### Input Sentence: I want to become a Data Scientist.\n",
    "\n"
   ]
  },
  {
   "cell_type": "code",
   "execution_count": 102,
   "id": "e69741dc-c2dd-4291-b53b-743e8a2a15eb",
   "metadata": {},
   "outputs": [
    {
     "ename": "AttributeError",
     "evalue": "'str' object has no attribute 'append'",
     "output_type": "error",
     "traceback": [
      "\u001b[0;31m---------------------------------------------------------------------------\u001b[0m",
      "\u001b[0;31mAttributeError\u001b[0m                            Traceback (most recent call last)",
      "Cell \u001b[0;32mIn[102], line 18\u001b[0m\n\u001b[1;32m     15\u001b[0m             \u001b[38;5;28mstr\u001b[39m\u001b[38;5;241m.\u001b[39mappend(i)\n\u001b[1;32m     16\u001b[0m     \u001b[38;5;28;01mreturn\u001b[39;00m str2\n\u001b[0;32m---> 18\u001b[0m outputData \u001b[38;5;241m=\u001b[39m \u001b[43mencrypt\u001b[49m\u001b[43m(\u001b[49m\u001b[38;5;28;43minput\u001b[39;49m\u001b[43m)\u001b[49m\n\u001b[1;32m     19\u001b[0m \u001b[38;5;28mprint\u001b[39m(output)\n",
      "Cell \u001b[0;32mIn[102], line 15\u001b[0m, in \u001b[0;36mencrypt\u001b[0;34m(str)\u001b[0m\n\u001b[1;32m     13\u001b[0m         \u001b[38;5;28mstr\u001b[39m\u001b[38;5;241m.\u001b[39mappend(\u001b[38;5;124m'\u001b[39m\u001b[38;5;124m&\u001b[39m\u001b[38;5;124m'\u001b[39m)\n\u001b[1;32m     14\u001b[0m     \u001b[38;5;28;01melse\u001b[39;00m:\n\u001b[0;32m---> 15\u001b[0m         \u001b[38;5;28;43mstr\u001b[39;49m\u001b[38;5;241;43m.\u001b[39;49m\u001b[43mappend\u001b[49m(i)\n\u001b[1;32m     16\u001b[0m \u001b[38;5;28;01mreturn\u001b[39;00m str2\n",
      "\u001b[0;31mAttributeError\u001b[0m: 'str' object has no attribute 'append'"
     ]
    }
   ],
   "source": [
    "inputData = 'I want to become a Data Scientist.'\n",
    "def encrypt(str):\n",
    "    str = str.lower()\n",
    "    str2 = ''\n",
    "    for i in str:\n",
    "        if i == 'a':\n",
    "            str2 = str'z'\n",
    "        elif i == 'b':\n",
    "            str.append('y')\n",
    "        elif i == 'c':\n",
    "            str.append('x')\n",
    "        elif i == ' ':\n",
    "            str.append('&')\n",
    "        else:\n",
    "            str.append(i)\n",
    "    return str2\n",
    "\n",
    "outputData = encrypt(input)\n",
    "print(output)\n",
    "            \n",
    "        \n",
    "        "
   ]
  },
  {
   "cell_type": "code",
   "execution_count": null,
   "id": "61b5f81d-14bf-4b97-a6cb-44b3b5395f15",
   "metadata": {},
   "outputs": [],
   "source": []
  }
 ],
 "metadata": {
  "kernelspec": {
   "display_name": "Python 3 (ipykernel)",
   "language": "python",
   "name": "python3"
  },
  "language_info": {
   "codemirror_mode": {
    "name": "ipython",
    "version": 3
   },
   "file_extension": ".py",
   "mimetype": "text/x-python",
   "name": "python",
   "nbconvert_exporter": "python",
   "pygments_lexer": "ipython3",
   "version": "3.10.8"
  }
 },
 "nbformat": 4,
 "nbformat_minor": 5
}
