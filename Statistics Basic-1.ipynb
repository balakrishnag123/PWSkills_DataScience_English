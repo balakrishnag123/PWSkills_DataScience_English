{
 "cells": [
  {
   "cell_type": "markdown",
   "id": "3d0fb630-2c23-486d-9bfc-4125c4ccc3fd",
   "metadata": {},
   "source": [
    "### Statistics Basic-1"
   ]
  },
  {
   "cell_type": "markdown",
   "id": "26d0d65d-ca6b-4fc3-a291-6d0cb1f657ae",
   "metadata": {},
   "source": [
    "### Q1. What is Statistics?"
   ]
  },
  {
   "cell_type": "markdown",
   "id": "cf1cb264-1b22-4180-8b30-f5fb2084fd05",
   "metadata": {},
   "source": [
    "Ans - Statistics is the science of collection, organising and analysing data"
   ]
  },
  {
   "cell_type": "markdown",
   "id": "aa725ce1-6d73-47a0-be75-fd415a87b578",
   "metadata": {},
   "source": [
    "### Q2. Define the different types of statistics and give an example of when each type might be used."
   ]
  },
  {
   "cell_type": "markdown",
   "id": "4d068e8d-4345-4283-aa3e-f618643088d3",
   "metadata": {},
   "source": [
    "Ans : \n",
    "Descriptive Statistics :\n",
    "In the descriptive Statistics, the Data is described in a summarized way. The summarization is done from the sample of the population using different parameters like Mean or standard deviation. Descriptive Statistics are a way of using charts, graphs, and summary measures to organize, represent, and explain a set of Data. \n",
    "\n",
    "Inferential Statistics : \n",
    "In the Inferential Statistics, we try to interpret the Meaning of descriptive Statistics. After the Data has been collected, analyzed, and summarised we use Inferential Statistics to describe the Meaning of the collected Data.\n",
    "\n",
    "Example :\n",
    "In a class, the Data is the set of marks obtained by 50 students. Now when we take out the Data average, the result is the average of 50 students’ marks. If the average marks obtained by 50 students are 88 out of 100, on the basis of the outcome, we will draw a conclusion. \n",
    "\n"
   ]
  },
  {
   "cell_type": "markdown",
   "id": "7dda6bb3-b998-40ab-87b3-eb5b8451ef5d",
   "metadata": {},
   "source": [
    "### Q3. What are the different types of data and how do they differ from each other? Provide an example of each type of data."
   ]
  },
  {
   "cell_type": "markdown",
   "id": "a4ccfcfb-ee79-4f27-a529-a9b7edf11794",
   "metadata": {},
   "source": [
    "\n",
    "a) Qualitative or Categorical Data :\n",
    "\n",
    "    Qualitative or Categorical Data is data that can’t be measured or counted in the form of numbers. These types of data are sorted by category, not by number. That’s why it is also known as Categorical Data. These data consist of audio, images, symbols, or text. The gender of a person, i.e., male, female, or others, is qualitative data.\n",
    "\n",
    "    Qualitative data tells about the perception of people. This data helps market researchers understand the customers’ tastes and then design their ideas and strategies accordingly. \n",
    "\n",
    "The other examples of qualitative data are :\n",
    "\n",
    "    1) What language do you speak\n",
    "    2) Favorite holiday destination\n",
    "    3) Opinion on something (agree, disagree, or neutral)\n",
    "    4) Colors\n",
    "\n",
    "The Qualitative data are further classified into two parts :\n",
    "\n",
    "i) Nominal Data :\n",
    "\n",
    "    Nominal Data is used to label variables without any order or quantitative value. The color of hair can be considered nominal data, as one color can’t be compared with another color.The name “nominal” comes from the Latin name “nomen,” which means “name.” With the help of nominal data, we can’t do any numerical tasks or can’t give any order to sort the data. These data don’t have any meaningful order; their values are distributed into distinct categories.\n",
    "\n",
    "Examples of Nominal Data :\n",
    "\n",
    "    1) Colour of hair (Blonde, red, Brown, Black, etc.)\n",
    "    2) Marital status (Single, Widowed, Married)\n",
    "    3) Nationality (Indian, German, American)\n",
    "    4)Gender (Male, Female, Others)\n",
    "    5) Eye Color (Black, Brown, etc.)\n",
    "\n",
    "ii) Ordinal Data :\n",
    "\n",
    "    Ordinal data have natural ordering where a number is present in some kind of order by their position on the scale. These data are used for observation like customer satisfaction, happiness, etc., but we can’t do any arithmetical tasks on them. Ordinal data is qualitative data for which their values have some kind of relative position. These kinds of data can be considered “in-between” qualitative and quantitative data. The ordinal data only shows the sequences and cannot use for statistical analysis. Compared to nominal data, ordinal data have some kind of order that is not present in nominal data.  \n",
    "\n",
    "Examples of Ordinal Data :\n",
    "\n",
    "    1) When companies ask for feedback, experience, or satisfaction on a scale of 1 to 10\n",
    "    2) Letter grades in the exam (A, B, C, D, etc.)\n",
    "    3) Ranking of people in a competition (First, Second, Third, etc.)\n",
    "    4) Economic Status (High, Medium, and Low)\n",
    "    5) Education Level (Higher, Secondary, Primary)"
   ]
  },
  {
   "cell_type": "markdown",
   "id": "d1e61c16-bcbf-4c18-8a7d-7a86be94746c",
   "metadata": {},
   "source": [
    "b) Quantitative Data\n",
    "\n",
    "    Quantitative data can be expressed in numerical values, making it countable and including statistical data analysis. These kinds of data are also known as Numerical data. It answers the questions like “how much,” “how many,” and “how often.” For example, the price of a phone, the computer’s ram, the height or weight of a person, etc., falls under quantitative data. Quantitative data can be used for statistical manipulation. These data can be represented on a wide variety of graphs and charts, such as bar graphs, histograms, scatter plots, boxplots, pie charts, line graphs, etc.\n",
    "\n",
    "Examples of Quantitative Data : \n",
    "\n",
    "    1) Height or weight of a person or object\n",
    "    2) Room Temperature\n",
    "    3) Scores and Marks (Ex: 59, 80, 60, etc.)\n",
    "    4) Time\n",
    "\n",
    "The Quantitative data are further classified into two parts :\n",
    "\n",
    "i) Discrete Data :\n",
    "    \n",
    "    The term discrete means distinct or separate. The discrete data contain the values that fall under integers or whole numbers. The total number of students in a class is an example of discrete data. These data can’t be broken into decimal or fraction values.The discrete data are countable and have finite values; their subdivision is not possible. These data are represented mainly by a bar graph, number line, or frequency table.\n",
    "\n",
    "Examples of Discrete Data : \n",
    "    \n",
    "    1) Total numbers of students present in a class\n",
    "    2) Cost of a cell phone\n",
    "    3) Numbers of employees in a company\n",
    "    4) The total number of players who participated in a competition\n",
    "    5) Days in a week\n",
    "\n",
    "ii) Continuous Data : \n",
    "    \n",
    "    Continuous data are in the form of fractional numbers. It can be the version of an android phone, the height of a person, the length of an object, etc. Continuous data represents information that can be divided into smaller levels. The continuous variable can take any value within a range. The key difference between discrete and continuous data is that discrete data contains the integer or whole number. Still, continuous data stores the fractional numbers to record different types of data such as temperature, height, width, time, speed, etc.\n",
    "\n",
    "Examples of Continuous Data : \n",
    "    \n",
    "    1) Height of a person\n",
    "    2) Speed of a vehicle\n",
    "    3) “Time-taken” to finish the work \n",
    "    4) Wi-Fi Frequency\n",
    "    5) Market share price"
   ]
  },
  {
   "cell_type": "code",
   "execution_count": null,
   "id": "3b764967-fe36-4f09-8304-5fdc75518933",
   "metadata": {},
   "outputs": [],
   "source": [
    "### "
   ]
  },
  {
   "cell_type": "markdown",
   "id": "ffb9e1db-1910-4c9c-b8f9-c11567a8788d",
   "metadata": {},
   "source": [
    "### Q5. Explain the concept of levels of measurement and give an example of a variable for each level."
   ]
  },
  {
   "cell_type": "markdown",
   "id": "6a550fac-681d-4236-b536-fbfc4eada3b3",
   "metadata": {},
   "source": [
    "Levels of measurement, also called scales of measurement, tell you how precisely variables are recorded. In scientific research, a variable is anything that can take on different values across your data set (e.g., height or test scores).\n",
    "\n",
    "There are 4 levels of measurement:\n",
    "\n",
    "1) Nominal: the data can only be categorized\n",
    "    You can categorize your data by labelling them in mutually exclusive groups, but there is no order between the categories.\n",
    "\n",
    "Example :\n",
    "    \n",
    "    a) City of birth\n",
    "    b) Gender\n",
    "    c) Ethnicity\n",
    "    d) Car brands\n",
    "    e) Marital status\n",
    "2) Ordinal: the data can be categorized and ranked\n",
    "    You can categorize and rank your data in an order, but you cannot say anything about the intervals between the rankings.Although you can rank the top 5 Olympic medallists, this scale does not tell you how close or far apart they are in number of wins.\n",
    "\n",
    "Example :\n",
    "    \n",
    "    a) Top 5 Olympic medallists\n",
    "    b) Language ability (e.g., beginner, intermediate, fluent)\n",
    "    c) Likert-type questions  (e.g., very dissatisfied to very satisfied)\n",
    "3) Interval: the data can be categorized, ranked, and evenly spaced\n",
    "    You can categorize, rank, and infer equal intervals between neighboring data points, but there is no true zero point.The difference between any two adjacent temperatures is the same: one degree. But  zero degrees is defined differently depending on the scale – it doesn’t mean an absolute absence of temperature.The same is true for test scores and personality inventories. A zero on a test is arbitrary; it does not mean that the test-taker has an absolute lack of the trait being measured.\n",
    "    \n",
    "Example :\n",
    " \n",
    "    a) Test scores (e.g., IQ or exams)\n",
    "    b) Personality inventories\n",
    "    c) Temperature in Fahrenheit or Celsius\n",
    "4) Ratio: the data can be categorized, ranked, evenly spaced, and has a natural zero.\n",
    "    You can categorize, rank, and infer equal intervals between neighboring data points, and there is a true zero point. A true zero means there is an absence of the variable of interest. In ratio scales, zero does mean an absolute lack of the variable.For example, in the Kelvin temperature scale, there are no negative degrees of temperature – zero means an absolute lack of thermal energy.\n",
    "    \n",
    "Example :\n",
    "\n",
    "    a) Height\n",
    "    b) Age\n",
    "    c) Weight\n",
    "    d) Temperature in Kelvin"
   ]
  },
  {
   "cell_type": "markdown",
   "id": "aad33f5c-1f58-4289-8e43-e8eb8914521a",
   "metadata": {},
   "source": [
    "### Q6. Why is it important to understand the level of measurement when analyzing data? Provide an example to illustrate your answer."
   ]
  },
  {
   "cell_type": "markdown",
   "id": "931265b1-ea23-4b50-a676-513ee774872a",
   "metadata": {},
   "source": [
    "Ans - Knowing the level of measurement of your variables is important for two reasons.  Each of the levels of measurement provides a different level of detail.  Nominal provides the least amount of detail, ordinal provides the next highest amount of detail, and interval and ratio provide the most amount of detail."
   ]
  },
  {
   "cell_type": "markdown",
   "id": "0e227def-6424-4e77-8c36-ea2bbcb60f91",
   "metadata": {},
   "source": [
    "1) In a nominal level variable, values are grouped into categories that have no meaningful order.  For example, gender and political affiliation are nominal level variables.  Members in the group are assigned a label in that group and there is no hierarchy.  Typical descriptive statistics associated with nominal data are frequencies and percentages.A nominal variable is one in which values serve only as labels, even if those values are numbers.  For example, if we want to categorize male and female respondents, we could use a number of 1 for male, and 2 for female.  However, the values of 1 and 2 in this case do not represent any meaningful order or carry any mathematical meaning.  They are simply used as labels.  Nominal data cannot be used to perform many statistical computations, such as mean and standard deviation, because such statistics do not have any meaning when used with nominal variables. However, nominal variables can be used to do cross tabulations.  The chi-square test can be performed on a cross-tabulation of nominal data.\n",
    "\n",
    "2) Ordinal level variables are nominal level variables with a meaningful order.  For example, horse race winners can be assigned labels of first, second, third, fourth, etc. and these labels have an ordered relationship among them (i.e., first is higher than second, second is higher than third, and so on).  As with nominal level variables, ordinal level variables are typically described with frequencies and percentages.Values of ordinal variables have a meaningful order to them.  For example, education level (with possible values of high school, undergraduate degree, and graduate degree) would be an ordinal variable.  There is a definitive order to the categories (i.e., graduate is higher than undergraduate, and undergraduate is higher than high school), but we cannot make any other arithmetic assumptions beyond that.  For instance, we cannot assume that the difference in education level between undergraduate and high school is the same as the difference between graduate and undergraduate.\n",
    "\n",
    "3) For interval variables, we can make arithmetic assumptions about the degree of difference between values.  An example of an interval variable would be temperature.  We can correctly assume that the difference between 70 and 80 degrees is the same as the difference between 80 and 90 degrees.  However, the mathematical operations of multiplication and division do not apply to interval variables.  For instance, we cannot accurately say that 100 degrees is twice as hot as 50 degrees.  Additionally, interval variables often do not have a meaningful zero-point.  For example, a temperature of zero degrees (on Celsius and Fahrenheit scales) does not mean a complete absence of heat. Some researchers treat variables measured with Likert scales (e.g., with labels such as 1 = strongly disagree, 2 = disagree, 3 = neutral, 4 = agree, and 5 = strongly agree) as interval variables. However, treating Likert scale responses as interval data carries the assumption that the differences between points on the scale are all equal.  That is to say, using the 5-point Likert scale as an interval scale assumes that the difference between strongly agree and agree is the same relative difference as between neutral and agree.  This is often not a safe assumption to make, so Likert scale responses are usually better off treated as ordinal. An interval variable can be used to compute commonly used statistical measures such as the average (mean), standard deviation, and the Pearson correlation coefficient.  Many other advanced statistical tests and techniques also require interval or ratio data.\n",
    "\n",
    "4) All arithmetic operations are possible on a ratio variable.  An example of a ratio variable would be weight (e.g., in pounds).  We can accurately say that 20 pounds is twice as heavy as 10 pounds.  Additionally, ratio variables have a meaningful zero-point (e.g., exactly 0 pounds means the object has no weight).  Other examples of ratio variables include gross sales of a company, the expenditure of a company, the income of a company, etc. A ratio variable can be used as a dependent variable for most parametric statistical tests such as t-tests, F-tests, correlation, and regression."
   ]
  },
  {
   "cell_type": "markdown",
   "id": "bc18790e-6ff0-4868-b74c-8c37dde0f1fe",
   "metadata": {},
   "source": [
    "### Q7. How nominal data type is different from ordinal data type."
   ]
  },
  {
   "cell_type": "markdown",
   "id": "7a496b64-9439-433d-9f6c-64cb475126de",
   "metadata": {},
   "source": [
    "Ans : Nominal data are catogrical data which are not orderered, we cannot calculate which value has highest value or lowel where as ordinal one we can find the level of order."
   ]
  },
  {
   "cell_type": "markdown",
   "id": "473763de-0128-464a-b9bc-09b2501913f7",
   "metadata": {},
   "source": [
    "### Q8. Which type of plot can be used to display data in terms of range?"
   ]
  },
  {
   "cell_type": "markdown",
   "id": "3a8d9d9b-fac3-40fb-a6c1-efec10506332",
   "metadata": {},
   "source": [
    "Ans - Bar graph is used."
   ]
  },
  {
   "cell_type": "markdown",
   "id": "469b1837-9312-409a-9179-24151cc6928d",
   "metadata": {},
   "source": [
    "### Q9. Describe the difference between descriptive and inferential statistics. Give an example of each type of statistics and explain how they are used."
   ]
  },
  {
   "cell_type": "markdown",
   "id": "a7d64c31-7748-4925-bd1d-cc3daa61874c",
   "metadata": {},
   "source": [
    "Ans : \n",
    "Descriptive Statistics :\n",
    "In the descriptive Statistics, the Data is described in a summarized way. The summarization is done from the sample of the population using different parameters like Mean or standard deviation. Descriptive Statistics are a way of using charts, graphs, and summary measures to organize, represent, and explain a set of Data. \n",
    "\n",
    "Inferential Statistics : \n",
    "In the Inferential Statistics, we try to interpret the Meaning of descriptive Statistics. After the Data has been collected, analyzed, and summarised we use Inferential Statistics to describe the Meaning of the collected Data.\n",
    "\n",
    "Example :\n",
    "In a class, the Data is the set of marks obtained by 50 students. Now when we take out the Data average, the result is the average of 50 students’ marks this is done using Descriptive Statistics. If the average marks obtained by 50 students are 88 out of 100, on the basis of the outcome, we will draw a conclusion this is done using Inferential Statistics\n",
    "\n"
   ]
  },
  {
   "cell_type": "markdown",
   "id": "36fdd06e-2ede-4f3f-a777-92829e0c64dd",
   "metadata": {},
   "source": [
    "### Q10. What are some common measures of central tendency and variability used in statistics? Explain how each measure can be used to describe a dataset."
   ]
  },
  {
   "cell_type": "markdown",
   "id": "3ac5c320-7b63-40dd-8171-fa4e5efebc30",
   "metadata": {},
   "source": [
    "Ans - \n",
    "    Central tendency and variation are two measures used in statistics to summarize data. Measure of central tendency shows where the center or middle of the data set is located, whereas measure of variation shows the dispersion among data values."
   ]
  },
  {
   "cell_type": "markdown",
   "id": "0750c743-132e-40ae-8c15-c41e313ab540",
   "metadata": {},
   "source": [
    "Meaures of Central Tendency: \n",
    "    \n",
    "    Mean: average of data values,\n",
    "    Median: “middle value” or the average of “middle two values” in a data set when the numbers are arranged in an order.\n",
    "    Mode: value that occurs with greatest frequency."
   ]
  },
  {
   "cell_type": "markdown",
   "id": "3b8e82f0-b9ce-49dd-b5bd-5f5a8a0bd3f5",
   "metadata": {},
   "source": [
    "Measures of variation:\n",
    "\n",
    "    Standard deviation: measure of how much data\n",
    "    values are deviated away from mean."
   ]
  },
  {
   "cell_type": "markdown",
   "id": "2d0484f0-1061-48d8-a8f1-5bd453026c67",
   "metadata": {},
   "source": [
    "### Q4. Categorise the following datasets with respect to quantitative and qualitative data types:\n",
    "\n",
    "    (i) Grading in exam: A+, A, B+, B, C+, C, D, E\n",
    "    (ii) Colour of mangoes: yellow, green, orange, red\n",
    "    (iii) Height data of a class: [178.9, 179, 179.5, 176, 177.2, 178.3, 175.8,...]\n",
    "    (iv) Number of mangoes exported by a farm: [500, 600, 478, 672, ...]"
   ]
  },
  {
   "cell_type": "markdown",
   "id": "1401cc08-66e0-42e4-834d-385c1090abe9",
   "metadata": {},
   "source": [
    "Ans - \n",
    "\n",
    "    (i) Grading in exam: A+, A, B+, B, C+, C, D, E - Qualitative data type\n",
    "    (ii) Colour of mangoes: yellow, green, orange, red - Qualitative data type\n",
    "    (iii) Height data of a class: [178.9, 179, 179.5, 176, 177.2, 178.3, 175.8,...] - Quantative data type\n",
    "    (iv) Number of mangoes exported by a farm: [500, 600, 478, 672, ...] - Quantative data type"
   ]
  },
  {
   "cell_type": "code",
   "execution_count": null,
   "id": "38383925-e7ec-46ee-b85b-0d2705895c2d",
   "metadata": {},
   "outputs": [],
   "source": []
  }
 ],
 "metadata": {
  "kernelspec": {
   "display_name": "Python 3 (ipykernel)",
   "language": "python",
   "name": "python3"
  },
  "language_info": {
   "codemirror_mode": {
    "name": "ipython",
    "version": 3
   },
   "file_extension": ".py",
   "mimetype": "text/x-python",
   "name": "python",
   "nbconvert_exporter": "python",
   "pygments_lexer": "ipython3",
   "version": "3.10.8"
  }
 },
 "nbformat": 4,
 "nbformat_minor": 5
}
