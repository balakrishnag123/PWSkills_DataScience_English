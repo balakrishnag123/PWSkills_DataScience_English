{
 "cells": [
  {
   "cell_type": "markdown",
   "id": "f45b9490-2465-4806-a629-ad5120f4cd82",
   "metadata": {},
   "source": [
    "### Web Scrapping - Assignment 19"
   ]
  },
  {
   "cell_type": "markdown",
   "id": "07ad8a31-5a94-459b-871b-081044eeaf1a",
   "metadata": {},
   "source": [
    "### Q1. What is Web Scraping? Why is it Used? Give three areas where Web Scraping is used to get data."
   ]
  },
  {
   "cell_type": "markdown",
   "id": "7e8a3fc3-86ad-48ae-88a0-8a110b098184",
   "metadata": {},
   "source": [
    "Web scraping is the process of collecting structured web data in an automated manner. It's also widely known as web data extraction or web data scraping. \n",
    "\n",
    "Data scraping has numerous applications across many industries—including insurance, banking, finance, trading, eCommerce, sports, and digital marketing. Data is also used to inform decision-making, generate leads and sales, manage risks, guide strategies, and create new products and services."
   ]
  },
  {
   "cell_type": "markdown",
   "id": "56275613-1355-45bc-8c45-79ceb5df876c",
   "metadata": {},
   "source": [
    "### Q2. What are the different methods used for Web Scraping?"
   ]
  },
  {
   "cell_type": "markdown",
   "id": "d7cf9dcd-40a7-4501-a841-a44ea39a0a2b",
   "metadata": {},
   "source": [
    "There are total threee methods used for web scraping they are.\n",
    "1) Manual\n",
    "2) Automated\n",
    "3) Outsourced Web Scraping"
   ]
  },
  {
   "cell_type": "markdown",
   "id": "04fab052-6dac-443a-a612-8f44d17cd8be",
   "metadata": {},
   "source": [
    "### Q3. What is Beautiful Soup? Why is it used?"
   ]
  },
  {
   "cell_type": "markdown",
   "id": "c7a4d767-a842-4b0d-978b-05fb1b4de6f3",
   "metadata": {},
   "source": [
    "Beautiful Soup is a Python library for getting data out of HTML, XML, and other markup languages.\n",
    "\n",
    "It is used because It creates a parse tree for parsed pages that can be used to extract data from HTML, which is useful for web scraping."
   ]
  },
  {
   "cell_type": "markdown",
   "id": "d451bc4c-519e-4864-9f92-40d20d20316e",
   "metadata": {},
   "source": [
    "### Q4. Why is flask used in this Web Scraping project?"
   ]
  },
  {
   "cell_type": "markdown",
   "id": "39d28efc-3f43-41ce-9e50-8655609ea52d",
   "metadata": {},
   "source": [
    "It gives developers flexibility and is a more accessible framework for new developers since you can build a web application quickly using only a single Python file. Flask is also extensible and doesn't force a particular directory structure or require complicated boilerplate code before getting started."
   ]
  },
  {
   "cell_type": "markdown",
   "id": "1d01df2c-19fd-42a4-b636-c04b7183b7fc",
   "metadata": {},
   "source": [
    "### Q5. Write the names of AWS services used in this project. Also, explain the use of each service."
   ]
  },
  {
   "cell_type": "markdown",
   "id": "b626af63-e23a-4297-a6cc-278159343312",
   "metadata": {},
   "source": [
    "Total 2 service are used in this project. they are.\n",
    "\n",
    "Elastic Beanstalk :\n",
    "    Why AWS Elastic Beanstalk? Elastic Beanstalk is a service for deploying and scaling web applications and services. Upload your code and Elastic Beanstalk automatically handles the deployment—from capacity provisioning, load balancing, and auto scaling to application health monitoring.   \n",
    "\n",
    "Pipeline :\n",
    "    AWS Data Pipeline is a web service that helps you reliably process and move data between different AWS compute and storage services, as well as on-premises data sources, at specified intervals."
   ]
  },
  {
   "cell_type": "code",
   "execution_count": null,
   "id": "620b26c7-563e-408b-a8f6-163ad014e230",
   "metadata": {},
   "outputs": [],
   "source": []
  }
 ],
 "metadata": {
  "kernelspec": {
   "display_name": "Python 3 (ipykernel)",
   "language": "python",
   "name": "python3"
  },
  "language_info": {
   "codemirror_mode": {
    "name": "ipython",
    "version": 3
   },
   "file_extension": ".py",
   "mimetype": "text/x-python",
   "name": "python",
   "nbconvert_exporter": "python",
   "pygments_lexer": "ipython3",
   "version": "3.10.8"
  }
 },
 "nbformat": 4,
 "nbformat_minor": 5
}
