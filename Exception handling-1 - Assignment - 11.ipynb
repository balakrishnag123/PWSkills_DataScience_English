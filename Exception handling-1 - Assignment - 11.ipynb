{
 "cells": [
  {
   "cell_type": "markdown",
   "id": "fe730e8d-d60d-44cc-bb36-addc49e52ab8",
   "metadata": {},
   "source": [
    "# Exception handling-1 - Assignment - 11"
   ]
  },
  {
   "cell_type": "markdown",
   "id": "4310b4ba-f351-4aa0-90de-2b35baba929d",
   "metadata": {},
   "source": [
    "### 1. What is an Exception in python? Write the difference between Exceptions and Syntax errors.\n"
   ]
  },
  {
   "cell_type": "markdown",
   "id": "b2e533b2-dad9-4534-b3e0-9033ef869b9e",
   "metadata": {},
   "source": [
    "Ans - \n",
    "Exceptions - An exception is an abnormal event that occurs during the execution of a program. Exceptions are usually caused by runtime errors, such as dividing by zero, trying to access an element in an array with an out-of-bounds index, or trying to access a file that does not exist. Exceptions are not syntax errors, but they can still prevent the program from running if they are not handled properly."
   ]
  },
  {
   "cell_type": "raw",
   "id": "1ad445d2-f618-446d-b165-f04bd6f55cc4",
   "metadata": {},
   "source": [
    "Syntax Errors - A syntax error occurs when the structure of a program does not conform to the rules of the programming language. Syntax errors are usually detected by the compiler or interpreter when the program is being compiled or executed, and they prevent the program from running. Syntax errors are usually caused by mistakes in the source code, such as typos, omissions, or incorrect use of syntax."
   ]
  },
  {
   "cell_type": "markdown",
   "id": "42b05beb-0556-4055-94af-7d7d237db266",
   "metadata": {},
   "source": [
    "### Q2. What happens when an exception is not handled? Explain with an example.\n"
   ]
  },
  {
   "cell_type": "markdown",
   "id": "ffc42ed5-4d8e-45ba-8e3c-09d9b5687ce0",
   "metadata": {},
   "source": [
    "When an exception is not handled, it iintrupts the flow of programme execution and throws error message."
   ]
  },
  {
   "cell_type": "code",
   "execution_count": 7,
   "id": "58f233a7-cc1a-41ac-a823-faf65804feec",
   "metadata": {},
   "outputs": [],
   "source": [
    "def testExample():\n",
    "    a = int(input(\"Enter a value\"))\n",
    "    b = 10\n",
    "    return 10/a"
   ]
  },
  {
   "cell_type": "code",
   "execution_count": 9,
   "id": "da65cea8-a4e9-4ac1-8e93-5bc9e2eea969",
   "metadata": {},
   "outputs": [
    {
     "name": "stdin",
     "output_type": "stream",
     "text": [
      "Enter a value 50\n"
     ]
    },
    {
     "data": {
      "text/plain": [
       "0.2"
      ]
     },
     "execution_count": 9,
     "metadata": {},
     "output_type": "execute_result"
    }
   ],
   "source": [
    "d = testExample()\n",
    "d"
   ]
  },
  {
   "cell_type": "markdown",
   "id": "86f1c0c6-03de-4e0d-8900-f5b417468f89",
   "metadata": {},
   "source": [
    "when i input 50 the programme executed and result was printed. "
   ]
  },
  {
   "cell_type": "code",
   "execution_count": 10,
   "id": "3ef071b0-e54a-48b4-9577-bcd5f1d0ef73",
   "metadata": {},
   "outputs": [
    {
     "name": "stdin",
     "output_type": "stream",
     "text": [
      "Enter a value 0\n"
     ]
    },
    {
     "ename": "ZeroDivisionError",
     "evalue": "division by zero",
     "output_type": "error",
     "traceback": [
      "\u001b[0;31m---------------------------------------------------------------------------\u001b[0m",
      "\u001b[0;31mZeroDivisionError\u001b[0m                         Traceback (most recent call last)",
      "Cell \u001b[0;32mIn[10], line 1\u001b[0m\n\u001b[0;32m----> 1\u001b[0m d \u001b[38;5;241m=\u001b[39m \u001b[43mtestExample\u001b[49m\u001b[43m(\u001b[49m\u001b[43m)\u001b[49m\n\u001b[1;32m      2\u001b[0m d\n",
      "Cell \u001b[0;32mIn[7], line 4\u001b[0m, in \u001b[0;36mtestExample\u001b[0;34m()\u001b[0m\n\u001b[1;32m      2\u001b[0m a \u001b[38;5;241m=\u001b[39m \u001b[38;5;28mint\u001b[39m(\u001b[38;5;28minput\u001b[39m(\u001b[38;5;124m\"\u001b[39m\u001b[38;5;124mEnter a value\u001b[39m\u001b[38;5;124m\"\u001b[39m))\n\u001b[1;32m      3\u001b[0m b \u001b[38;5;241m=\u001b[39m \u001b[38;5;241m10\u001b[39m\n\u001b[0;32m----> 4\u001b[0m \u001b[38;5;28;01mreturn\u001b[39;00m \u001b[38;5;241;43m10\u001b[39;49m\u001b[38;5;241;43m/\u001b[39;49m\u001b[43ma\u001b[49m\n",
      "\u001b[0;31mZeroDivisionError\u001b[0m: division by zero"
     ]
    }
   ],
   "source": [
    "d = testExample()\n",
    "d"
   ]
  },
  {
   "cell_type": "markdown",
   "id": "6994baa5-a23e-46c9-9644-01deb3c7a25b",
   "metadata": {},
   "source": [
    "If I enter \"0\" the exception in runtime was occured and intrupted flow."
   ]
  },
  {
   "cell_type": "markdown",
   "id": "3e7498f1-83f8-4bd8-9268-47dfe6b119f6",
   "metadata": {},
   "source": [
    "### Q3. Which Python statements are used to catch and handle exceptions? Explain with an example.\n"
   ]
  },
  {
   "cell_type": "markdown",
   "id": "84471951-92d1-4177-8d0e-151458434bce",
   "metadata": {},
   "source": [
    "The try and except block in Python is used to catch and handle exceptions. below is example"
   ]
  },
  {
   "cell_type": "code",
   "execution_count": 12,
   "id": "82009b89-8342-4591-a1db-fa93bb3117de",
   "metadata": {},
   "outputs": [
    {
     "name": "stdout",
     "output_type": "stream",
     "text": [
      "Error: Denominator cannot be 0.\n"
     ]
    }
   ],
   "source": [
    "try:\n",
    "    numerator = 10\n",
    "    denominator = 0\n",
    "\n",
    "    result = numerator/denominator\n",
    "\n",
    "    print(result)\n",
    "except:\n",
    "    print(\"Error: Denominator cannot be 0.\")\n",
    "\n"
   ]
  },
  {
   "cell_type": "markdown",
   "id": "3ac07678-7bb4-4c48-a1e0-96c8c81f1888",
   "metadata": {},
   "source": [
    "### Q4. Explain with an example:#\n",
    "1) try and else\n",
    "2) finall\n",
    "3) raise"
   ]
  },
  {
   "cell_type": "markdown",
   "id": "5503c877-1ed5-419e-8b47-5dde25111e0f",
   "metadata": {},
   "source": [
    "1. try and else - try block will help to catch the exception if any occur between try block. else will continue flow if no excption caught in try block. Below is an example which explains try and else block."
   ]
  },
  {
   "cell_type": "code",
   "execution_count": 13,
   "id": "75e76514-b90e-43e1-bef7-743d3bc892d2",
   "metadata": {},
   "outputs": [
    {
     "name": "stdin",
     "output_type": "stream",
     "text": [
      "Enter a value 10\n",
      "Enter b value 10\n"
     ]
    },
    {
     "name": "stdout",
     "output_type": "stream",
     "text": [
      "Nothing went wrong\n"
     ]
    }
   ],
   "source": [
    "a = int(input(\"Enter a value\"))\n",
    "b = int(input(\"Enter b value\"))\n",
    "try:\n",
    "  a/b\n",
    "except:\n",
    "  print(\"Something went wrong\")\n",
    "else:\n",
    "  print(\"Nothing went wrong\")"
   ]
  },
  {
   "cell_type": "markdown",
   "id": "f48336b5-9142-462e-94c4-9e657b31b893",
   "metadata": {},
   "source": [
    "Explaination - Here i have entered 10 for both a and b, no exception was thrown hence executed else part"
   ]
  },
  {
   "cell_type": "code",
   "execution_count": 14,
   "id": "a84d58dc-4e10-4598-854f-828a833f2c71",
   "metadata": {},
   "outputs": [
    {
     "name": "stdin",
     "output_type": "stream",
     "text": [
      "Enter a value 10\n",
      "Enter b value 0\n"
     ]
    },
    {
     "name": "stdout",
     "output_type": "stream",
     "text": [
      "Something went wrong\n"
     ]
    }
   ],
   "source": [
    "a = int(input(\"Enter a value\"))\n",
    "b = int(input(\"Enter b value\"))\n",
    "try:\n",
    "  a/b\n",
    "except:\n",
    "  print(\"Something went wrong\")\n",
    "else:\n",
    "  print(\"Nothing went wrong\")"
   ]
  },
  {
   "cell_type": "markdown",
   "id": "7e1d6e1e-e336-4d4d-8093-4a8f6ba5109c",
   "metadata": {},
   "source": [
    "Explaination - Here i have entered 10 for a and 0 for b, an exception was caught in try and handled in except block"
   ]
  },
  {
   "cell_type": "markdown",
   "id": "61262ce4-d5ac-4d54-b298-1c1dbf06523b",
   "metadata": {},
   "source": [
    "### Q5. What are Custom Exceptions in python? Why do we need Custom Exceptions? Explain with an example.\n"
   ]
  },
  {
   "cell_type": "markdown",
   "id": "829b2dbe-4a9a-4972-aa83-c4900f22ad3f",
   "metadata": {},
   "source": [
    "sometimes we need special exception message to be created based on some usecase which are not found in in-built exception.We need this to handle some situation which are not handled in built-in exception module. So we create a class which can be reused."
   ]
  },
  {
   "cell_type": "code",
   "execution_count": null,
   "id": "2def3a18-9a71-460b-a450-dbf7d8ea5e41",
   "metadata": {},
   "outputs": [],
   "source": [
    "# define Python user-defined exceptions\n",
    "class InvalidAgeException(Exception):\n",
    "    \"Raised when the input value is less than 18\"\n",
    "    pass\n",
    "\n",
    "# you need to guess this number\n",
    "number = 18\n",
    "\n",
    "try:\n",
    "    input_num = int(input(\"Enter a number: \"))\n",
    "    if input_num < number:\n",
    "        raise InvalidAgeException\n",
    "    else:\n",
    "        print(\"Eligible to Vote\")\n",
    "        \n",
    "except InvalidAgeException:\n",
    "    print(\"Exception occurred: Invalid Age\")"
   ]
  },
  {
   "cell_type": "markdown",
   "id": "0aff5613-6d5f-48ae-a09a-fe2444484144",
   "metadata": {},
   "source": [
    "Here you can see these type of situation are usecase based which will not be handled in excepiton buil-in module"
   ]
  },
  {
   "cell_type": "code",
   "execution_count": null,
   "id": "f9db6e3f-4984-49f3-b04e-6ae666f8d174",
   "metadata": {},
   "outputs": [],
   "source": []
  }
 ],
 "metadata": {
  "kernelspec": {
   "display_name": "Python 3 (ipykernel)",
   "language": "python",
   "name": "python3"
  },
  "language_info": {
   "codemirror_mode": {
    "name": "ipython",
    "version": 3
   },
   "file_extension": ".py",
   "mimetype": "text/x-python",
   "name": "python",
   "nbconvert_exporter": "python",
   "pygments_lexer": "ipython3",
   "version": "3.10.8"
  }
 },
 "nbformat": 4,
 "nbformat_minor": 5
}
