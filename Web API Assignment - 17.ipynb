{
 "cells": [
  {
   "cell_type": "markdown",
   "id": "b79e89f9-d0c7-4777-9f87-a6d877988778",
   "metadata": {},
   "source": [
    "## Web API Assignment - 17"
   ]
  },
  {
   "cell_type": "markdown",
   "id": "0acad565-d358-4fc0-9496-30dbecb6d922",
   "metadata": {},
   "source": [
    "### Q1. What is an API? Give an example, where an API is used in real life.\n"
   ]
  },
  {
   "cell_type": "markdown",
   "id": "ada0da00-eecb-4383-8950-f633c3a689eb",
   "metadata": {},
   "source": [
    "\n",
    "API : APIs are used in web applications to connect user-facing front ends with critical back-end functionality and data. \n",
    "\n",
    "Example : \n",
    "1) Flight info is displayed on travel sites as updated by the airline's management in the back-end.\n",
    "2) Using Google maps for navigation while riding through an online taxi booking app.\n",
    "3) Building chatbots for automated replies in a messaging service.\n",
    "4) Interlinking Youtube videos on a webpage or a blog site.\n",
    "5) Automating workflows via the business-to-business software tools.\n",
    "6) Quick and universal logins through your Instagram, Facebook or Gmail profile.\n",
    "7) Third-party website payments with PayPal, CashApp, etc. have made the checkout procedures super fun.\n",
    "8) Automotive companies send software updates via API to manage the vehicles more efficiently.\n",
    "\n"
   ]
  },
  {
   "cell_type": "markdown",
   "id": "0ad3d045-4194-4b80-82f3-ebb90eb707e9",
   "metadata": {},
   "source": [
    "### Q2. Give advantages and disadvantages of using API."
   ]
  },
  {
   "cell_type": "markdown",
   "id": "402d51c1-bc26-486e-8f12-2c52989b6e80",
   "metadata": {},
   "source": [
    "The main advantage of providing an API is that it allows your users to do more with your product or service (i.e. it increases the value of your product). This typically takes one of two forms -\n",
    "\n",
    "1) an integration. An example of an integration is to push notifications from your product (such as CRM, Helpdesk) to a messaging tool such as Slack. In this way, if your customer uses Slack they can receive notifications without having to login directly to your system or check emails.\n",
    "2) new functionality. In the early days of Twitter, some of the most popular Twitter clients were produced by third parties using the Twitter API. Twitter and its users benefited from the new functionality that was undertaken by other companies.\n",
    "\n",
    "The disadvantages to providing an API are,\n",
    "\n",
    "1) Cost:  Providing an API is expensive in terms of development time, ongoing maintenance, providing API documentation on your website and providing support to users of your API.\n",
    "2) Security exposure:  Adding an API adds another attack surface to your website.\n",
    "3) You might not like the result or you may change business direction:  It's not always easy to predict exactly how your API will be used. If your integration with a messaging system means that users login to your service less often, will there be an overall negative impact for you? Withdrawing an API can be painful for users if you decide that you need to do so. This is unusual but it can happen. As Twitter's business evolved it changed its rules for accessing its API which resulted in a number of problems for users and developers"
   ]
  },
  {
   "cell_type": "markdown",
   "id": "5b4c625a-40b4-4888-aa29-f5415df58dcf",
   "metadata": {},
   "source": [
    "### Q3. What is a Web API? Differentiate between API and Web API.\n"
   ]
  },
  {
   "cell_type": "markdown",
   "id": "478215df-c9f3-4190-9e3d-aa6dd823c4d2",
   "metadata": {},
   "source": [
    "1) Web API: A Web API is an application programming interface for the Web. A Browser API can extend the functionality of a web browser. A Server API can extend the functionality of a web server.\n",
    "2) Difference between web API and API : Web service is used to communicate between two machines on a network. Web API is used as an interface between two different applications for communicating with each other. It uses HTML requests that can be compressed, but XML data cannot be compressed. Data can be compressed."
   ]
  },
  {
   "cell_type": "markdown",
   "id": "d279bc58-561d-493f-ab67-9dece069e63e",
   "metadata": {},
   "source": [
    "\n",
    "### Q4. Explain REST and SOAP Architecture. Mention shortcomings of SOAP.\n"
   ]
  },
  {
   "cell_type": "markdown",
   "id": "3fceb171-e87c-40ce-83fd-3c367ed6db53",
   "metadata": {},
   "source": [
    "\n",
    "REST is a set of guidelines that offers flexible implementation, whereas SOAP is a protocol with specific requirements like XML messaging. REST APIs are lightweight, making them ideal for newer contexts like the Internet of Things (IoT), mobile application development, and serverless computing.\n",
    "\n",
    "shortcomings of SOAP: \n",
    "(i) Detergents work well even with hard water but soaps do not. \n",
    "(ii) Detergents are more easily soluble in water than soaps. \n",
    "(iii) Detergents can be used for washing woolen garments whereas soaps cannot be used. \n",
    "(iv) Detergents having linear hydrocarbon chain are biodegradable."
   ]
  },
  {
   "cell_type": "markdown",
   "id": "765cf726-57b1-4a76-a5f7-11657da1b7cc",
   "metadata": {},
   "source": [
    "### Q5. Differentiate between REST and SOAP."
   ]
  },
  {
   "cell_type": "markdown",
   "id": "8dc97ef8-58eb-4138-995b-c7fa52b40456",
   "metadata": {},
   "source": [
    "REST API\n",
    "1. Implementation\tRest API is implemented as it has no official standard at all because it is an architectural style.\t\n",
    "2. Internal communication\tREST APIs uses multiple standards like HTTP, JSON, URL, and XML for data communication and transfer.\n",
    "3. Resource requirement\tAs REST API deploys and uses multiple standards as stated above, so it takes fewer resources and bandwidth as compared to SOAP API.\n",
    "4. Description\tREST API uses Web Application Description Language for describing the functionalities being offered by web services.\n",
    "5. Security\tREST has SSL and HTTPS for security.\t\n",
    "6. Abbreviation\tREST stands for Representational State Transfer.\n",
    "7. Interchange\tREST can make use of SOAP as the underlying protocol for web services, because in the end it is just an architectural pattern.\n",
    "\n",
    "SOAP API\n",
    "1. On other hand SOAP API has an official standard because it is a protocol.\n",
    "2. SOAP APIs is largely based and uses only HTTP and XML.\n",
    "3. On other hand Soap API requires more resource and bandwidth as it needs to convert the data in XML which increases its payload and results in the large sized file.\n",
    "4. On other hand SOAP API used Web Services Description language for the same.\n",
    "5. On other hand SOAP has SSL( Secure Socket Layer) and WS-security due to which in the cases like Bank Account Password, Card Number, etc. SOAP is preferred over REST.\n",
    "6. On other hand SOAP stands for Simple Object Access Protocol\n",
    "7. On other hand SOAP cannot make use of REST since SOAP is a protocol and REST is an architectural pattern."
   ]
  },
  {
   "cell_type": "code",
   "execution_count": null,
   "id": "a62372e8-5b4d-413c-ad5a-dafa4ed632ac",
   "metadata": {},
   "outputs": [],
   "source": []
  },
  {
   "cell_type": "code",
   "execution_count": null,
   "id": "284b285a-97f9-4aaa-83fa-10b25e2c559c",
   "metadata": {},
   "outputs": [],
   "source": []
  }
 ],
 "metadata": {
  "kernelspec": {
   "display_name": "Python 3 (ipykernel)",
   "language": "python",
   "name": "python3"
  },
  "language_info": {
   "codemirror_mode": {
    "name": "ipython",
    "version": 3
   },
   "file_extension": ".py",
   "mimetype": "text/x-python",
   "name": "python",
   "nbconvert_exporter": "python",
   "pygments_lexer": "ipython3",
   "version": "3.10.8"
  }
 },
 "nbformat": 4,
 "nbformat_minor": 5
}
